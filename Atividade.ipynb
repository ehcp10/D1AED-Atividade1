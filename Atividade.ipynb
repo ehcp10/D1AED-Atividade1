{
 "cells": [
  {
   "cell_type": "markdown",
   "id": "9b426830-fa75-409a-bd6e-c0aa72fe2e3c",
   "metadata": {},
   "source": [
    "# D1AED – Analise Estâtística para Ciência de Dados\n",
    "\n",
    "## Atividâde em Dupla 1\n",
    "\n",
    "### Alunos\n",
    "Evandro Henrique Couto de Paula. Prontuário: CP301358-8<br>\n",
    "Jessé de Freitas. Prontuário:"
   ]
  },
  {
   "cell_type": "markdown",
   "id": "b8a9c412-8845-4a6c-84c0-a5145ccf34f8",
   "metadata": {},
   "source": [
    "# 1 - Importações e carregamento dos datasets"
   ]
  },
  {
   "cell_type": "code",
   "execution_count": 88,
   "id": "858279bc-fd1f-4e65-af11-7a0f087e93e5",
   "metadata": {},
   "outputs": [],
   "source": [
    "import pandas as pd\n",
    "import numpy as np\n",
    "import seaborn as sns\n",
    "import matplotlib.pyplot as plt"
   ]
  },
  {
   "cell_type": "code",
   "execution_count": 89,
   "id": "05b0f010-ee98-47b3-99e1-1e8ec19f20b3",
   "metadata": {},
   "outputs": [],
   "source": [
    "# Carregando datasets\n",
    "movies = pd.read_csv('ml-latest-small/movies.csv')\n",
    "links = pd.read_csv('ml-latest-small/links.csv')\n",
    "ratings = pd.read_csv('ml-latest-small/ratings.csv')\n",
    "tags = pd.read_csv('ml-latest-small/tags.csv')"
   ]
  },
  {
   "cell_type": "markdown",
   "id": "7b7e3ac7-e91e-4e37-8358-d69538ee46ca",
   "metadata": {},
   "source": [
    "# 2 -  Observaçoões sobre a análise"
   ]
  },
  {
   "cell_type": "markdown",
   "id": "7a0577e5-f195-4319-96c0-6c445a7c403a",
   "metadata": {},
   "source": [
    "## dificuldades\n",
    "Para realizar as análises dos filmes foi necessário realizar alguns ajutes a fim de sanar algumas questões, por exemplo, foi necessário trabalho para extrair a data de lançamento da coluna de título do filme.\n",
    "Outro grande desafio foi trabalhar com os generos dos filmes realizar uma análise dos categorias se mostrou bastante desafiador e exigiu um certo trabalho para que pudesse ser idealmente trabalhado."
   ]
  },
  {
   "cell_type": "markdown",
   "id": "5aa20259-9db2-4184-ba59-5ba62b0b63fe",
   "metadata": {},
   "source": [
    "# 3- Analise Exploratória"
   ]
  },
  {
   "cell_type": "markdown",
   "id": "87ce4157-d3b4-404d-9c7c-86321e24d1b3",
   "metadata": {},
   "source": [
    "### Análise movies"
   ]
  },
  {
   "cell_type": "code",
   "execution_count": 90,
   "id": "c9717785-bc47-48f0-9dac-59274d5aa55e",
   "metadata": {},
   "outputs": [
    {
     "name": "stdout",
     "output_type": "stream",
     "text": [
      "<class 'pandas.core.frame.DataFrame'>\n",
      "RangeIndex: 9742 entries, 0 to 9741\n",
      "Data columns (total 3 columns):\n",
      " #   Column   Non-Null Count  Dtype \n",
      "---  ------   --------------  ----- \n",
      " 0   movieId  9742 non-null   int64 \n",
      " 1   title    9742 non-null   object\n",
      " 2   genres   9742 non-null   object\n",
      "dtypes: int64(1), object(2)\n",
      "memory usage: 228.5+ KB\n"
     ]
    }
   ],
   "source": [
    "movies.info()"
   ]
  },
  {
   "cell_type": "markdown",
   "id": "70df43ee-d3fe-4980-b61f-82279d0c48ad",
   "metadata": {},
   "source": [
    "#### Tipos de dados do dataset movie\n",
    "\n",
    "| Coluna  | Tipo                  |Função|\n",
    "|---------|-----------------------|------|\n",
    "| movieId | Quantitativo discreto |Indice identificador do filme\n",
    "| title   | Qualitativo nominal   |Título do filme|\n",
    "| genres  | Qualitativo nominal   |Gênero atribuído ao filme|"
   ]
  },
  {
   "cell_type": "markdown",
   "id": "5966f2d3-8b7e-4b45-b48f-a412b386b710",
   "metadata": {},
   "source": [
    "#### Gêneros disponíveis"
   ]
  },
  {
   "cell_type": "code",
   "execution_count": 91,
   "id": "abc8e17f-6251-48af-800d-a1bba25fca22",
   "metadata": {},
   "outputs": [
    {
     "data": {
      "text/plain": [
       "{'(no genres listed)',\n",
       " 'Action',\n",
       " 'Adventure',\n",
       " 'Animation',\n",
       " 'Children',\n",
       " 'Comedy',\n",
       " 'Crime',\n",
       " 'Documentary',\n",
       " 'Drama',\n",
       " 'Fantasy',\n",
       " 'Film-Noir',\n",
       " 'Horror',\n",
       " 'IMAX',\n",
       " 'Musical',\n",
       " 'Mystery',\n",
       " 'Romance',\n",
       " 'Sci-Fi',\n",
       " 'Thriller',\n",
       " 'War',\n",
       " 'Western'}"
      ]
     },
     "execution_count": 91,
     "metadata": {},
     "output_type": "execute_result"
    }
   ],
   "source": [
    "genre_labels = set()\n",
    "for s in movies['genres'].str.split('|').values:\n",
    "    genre_labels = genre_labels.union(set(s))\n",
    "\n",
    "genre_labels"
   ]
  },
  {
   "cell_type": "markdown",
   "id": "7c69b610-5a14-4221-a426-28c6d8009d8f",
   "metadata": {},
   "source": [
    "#### Extraíndo data de lançamento dos filmes"
   ]
  },
  {
   "cell_type": "code",
   "execution_count": 92,
   "id": "62e08947-9d71-4d35-a468-aaa28e3d06b8",
   "metadata": {},
   "outputs": [
    {
     "data": {
      "text/plain": [
       "0       1995\n",
       "48      1994\n",
       "54      1996\n",
       "98      1976\n",
       "105     1992\n",
       "        ... \n",
       "8439    2015\n",
       "8684    2016\n",
       "8687    2017\n",
       "8693    2018\n",
       "9020    1908\n",
       "Name: release_year, Length: 107, dtype: Int64"
      ]
     },
     "execution_count": 92,
     "metadata": {},
     "output_type": "execute_result"
    }
   ],
   "source": [
    "pd.options.display.max_rows = 10\n",
    "movies['title'] = movies['title'].str.strip()\n",
    "movies['title'].str.slice(start=-5, stop=-1)\n",
    "movies['release_year'] = movies['title'].str.slice(start=-5, stop=-1)\n",
    "movies['release_year'] = movies.release_year.str.replace('\\)','', regex=True)\n",
    "movies['release_year'] = movies.release_year.str.replace('\\(','', regex=True)\n",
    "movies['release_year'] = pd.to_numeric(movies['release_year'], errors='coerce', downcast='signed').astype(pd.Int64Dtype())\n",
    "movies['release_year'].drop_duplicates()"
   ]
  },
  {
   "cell_type": "markdown",
   "id": "2ceac000-662f-4ded-95f8-4805df867ee3",
   "metadata": {},
   "source": [
    "### Análise links"
   ]
  },
  {
   "cell_type": "code",
   "execution_count": 93,
   "id": "18e6b85d-0b8a-41da-931f-f985d475b6cf",
   "metadata": {},
   "outputs": [
    {
     "name": "stdout",
     "output_type": "stream",
     "text": [
      "<class 'pandas.core.frame.DataFrame'>\n",
      "RangeIndex: 9742 entries, 0 to 9741\n",
      "Data columns (total 3 columns):\n",
      " #   Column   Non-Null Count  Dtype  \n",
      "---  ------   --------------  -----  \n",
      " 0   movieId  9742 non-null   int64  \n",
      " 1   imdbId   9742 non-null   int64  \n",
      " 2   tmdbId   9734 non-null   float64\n",
      "dtypes: float64(1), int64(2)\n",
      "memory usage: 228.5 KB\n"
     ]
    }
   ],
   "source": [
    "links.info()"
   ]
  },
  {
   "cell_type": "markdown",
   "id": "510bbc70-dac6-472e-8892-66be8339dd07",
   "metadata": {},
   "source": [
    "| Coluna  | Tipo                  |Função|\n",
    "|---------|-----------------------|------|\n",
    "| movieId | Quantitativo discreto |Identificador do filme|\n",
    "| imdbId  | Qualitativo nominal   |Identificador do filme na base do Imdb|\n",
    "| tmdbId  | Qualitativo continuo  |Identificador do filme na base do tmdb|"
   ]
  },
  {
   "cell_type": "markdown",
   "id": "9e8746cc-b0b7-4d58-bd3b-df0a29fa4a4f",
   "metadata": {},
   "source": [
    "### Análise tags"
   ]
  },
  {
   "cell_type": "code",
   "execution_count": 94,
   "id": "2e0fa80e-ff9b-4ccc-ae4d-a0bd606bdeb1",
   "metadata": {},
   "outputs": [
    {
     "name": "stdout",
     "output_type": "stream",
     "text": [
      "<class 'pandas.core.frame.DataFrame'>\n",
      "RangeIndex: 3683 entries, 0 to 3682\n",
      "Data columns (total 4 columns):\n",
      " #   Column     Non-Null Count  Dtype \n",
      "---  ------     --------------  ----- \n",
      " 0   userId     3683 non-null   int64 \n",
      " 1   movieId    3683 non-null   int64 \n",
      " 2   tag        3683 non-null   object\n",
      " 3   timestamp  3683 non-null   int64 \n",
      "dtypes: int64(3), object(1)\n",
      "memory usage: 115.2+ KB\n"
     ]
    }
   ],
   "source": [
    "tags.info()"
   ]
  },
  {
   "cell_type": "markdown",
   "id": "4fcb17d3-ad5d-41b1-a99b-4f778b87f5a4",
   "metadata": {},
   "source": [
    "| Coluna    | Tipo                  |Função|\n",
    "|-----------|-----------------------|-------|\n",
    "| userId    | Quantitativo discreto |Identificador do usuário|\n",
    "| movieId   | Quantitativo discreto |Identificador do filme|\n",
    "| tag       | Qualitativo nominal   |Marcação adicionado ao filme pelo usuário|\n",
    "| timestamp | Quantitativo discreto |Horário da marcação do usuário|"
   ]
  },
  {
   "cell_type": "markdown",
   "id": "f69aea7a-61f4-4eee-aaa5-f795d9033b8c",
   "metadata": {},
   "source": [
    "### Análise ratings"
   ]
  },
  {
   "cell_type": "code",
   "execution_count": 95,
   "id": "b4a51cc0-a39f-4f9f-8ea7-528c4d22a75b",
   "metadata": {},
   "outputs": [
    {
     "name": "stdout",
     "output_type": "stream",
     "text": [
      "<class 'pandas.core.frame.DataFrame'>\n",
      "RangeIndex: 100836 entries, 0 to 100835\n",
      "Data columns (total 4 columns):\n",
      " #   Column     Non-Null Count   Dtype  \n",
      "---  ------     --------------   -----  \n",
      " 0   userId     100836 non-null  int64  \n",
      " 1   movieId    100836 non-null  int64  \n",
      " 2   rating     100836 non-null  float64\n",
      " 3   timestamp  100836 non-null  int64  \n",
      "dtypes: float64(1), int64(3)\n",
      "memory usage: 3.1 MB\n"
     ]
    }
   ],
   "source": [
    "ratings.info()"
   ]
  },
  {
   "cell_type": "markdown",
   "id": "311e6ade-a80a-4f98-bc54-7452159195bf",
   "metadata": {},
   "source": [
    "| Coluna    | Tipo                 |Função|\n",
    "|-----------|----------------------|-------|\n",
    "| userId    | Quantitativo discreto  | Identificador do usuário|\n",
    "| movieId   | Quantitativo discreto  | Identificador do Filme|\n",
    "| rating    | Quantitativo continuo | Nota atrbuída ao filme pelo usuário|\n",
    "| timestamp | Quantitativo discreto  | Marcação do tempo do horário da avaliação|"
   ]
  },
  {
   "cell_type": "markdown",
   "id": "64170b50-7c2e-4dc9-9176-aba825d0d3dd",
   "metadata": {},
   "source": [
    "## Fundindo dataframes para análise"
   ]
  },
  {
   "cell_type": "code",
   "execution_count": 96,
   "id": "fd03a069-d00b-4d72-b202-7bafc12c135d",
   "metadata": {},
   "outputs": [],
   "source": [
    "movies_ratings = movies.merge(ratings,on='movieId')"
   ]
  },
  {
   "cell_type": "code",
   "execution_count": 97,
   "id": "c7792864-e63c-4225-90b8-67c2dc557de5",
   "metadata": {},
   "outputs": [
    {
     "name": "stdout",
     "output_type": "stream",
     "text": [
      "<class 'pandas.core.frame.DataFrame'>\n",
      "Int64Index: 100836 entries, 0 to 100835\n",
      "Data columns (total 7 columns):\n",
      " #   Column        Non-Null Count   Dtype  \n",
      "---  ------        --------------   -----  \n",
      " 0   movieId       100836 non-null  int64  \n",
      " 1   title         100836 non-null  object \n",
      " 2   genres        100836 non-null  object \n",
      " 3   release_year  100819 non-null  Int64  \n",
      " 4   userId        100836 non-null  int64  \n",
      " 5   rating        100836 non-null  float64\n",
      " 6   timestamp     100836 non-null  int64  \n",
      "dtypes: Int64(1), float64(1), int64(3), object(2)\n",
      "memory usage: 6.3+ MB\n"
     ]
    }
   ],
   "source": [
    "movies_ratings.info()"
   ]
  },
  {
   "cell_type": "code",
   "execution_count": 98,
   "id": "31f616fa-bffd-4996-a853-5c4bd4f4afef",
   "metadata": {},
   "outputs": [
    {
     "data": {
      "text/plain": [
       "count    100836.000000\n",
       "mean          3.501557\n",
       "std           1.042529\n",
       "min           0.500000\n",
       "25%           3.000000\n",
       "50%           3.500000\n",
       "75%           4.000000\n",
       "max           5.000000\n",
       "Name: rating, dtype: float64"
      ]
     },
     "execution_count": 98,
     "metadata": {},
     "output_type": "execute_result"
    }
   ],
   "source": [
    "movies_ratings['rating'].describe()"
   ]
  },
  {
   "cell_type": "code",
   "execution_count": 99,
   "id": "3332070a-2a5f-4108-ba8d-e20a7ae7a718",
   "metadata": {},
   "outputs": [],
   "source": [
    "movies_rating_clear = movies_ratings[movies_ratings['release_year'].notna()]\n",
    "mean_per_year = movies_rating_clear.groupby('release_year').mean().rating"
   ]
  },
  {
   "cell_type": "markdown",
   "id": "2cbbfd44-2177-4728-911b-7afc0f6b5d2a",
   "metadata": {},
   "source": [
    "## Removendo Outliers"
   ]
  },
  {
   "cell_type": "code",
   "execution_count": 100,
   "id": "5e39affa-24c0-492e-88f9-535bf73f4afd",
   "metadata": {},
   "outputs": [
    {
     "data": {
      "text/plain": [
       "count    96640.000000\n",
       "mean         3.616805\n",
       "std          0.900488\n",
       "min          1.500000\n",
       "25%          3.000000\n",
       "50%          4.000000\n",
       "75%          4.000000\n",
       "max          5.000000\n",
       "Name: rating, dtype: float64"
      ]
     },
     "execution_count": 100,
     "metadata": {},
     "output_type": "execute_result"
    }
   ],
   "source": [
    "rating_outlier = movies_rating_clear['rating']\n",
    "stats = movies_rating_clear.describe()\n",
    "Q1 = stats.loc['25%', 'rating']\n",
    "Q3 = stats.loc['75%', 'rating']\n",
    "\n",
    "IQR = Q3 - Q1\n",
    "\n",
    "# intervalo sem outliers\n",
    "lower_bound = Q1 - 1.5*IQR\n",
    "upper_bound = Q3 + 1.5*IQR\n",
    "\n",
    "query = (rating_outlier >= lower_bound) & (rating_outlier <= upper_bound)\n",
    "movies_rating_clear_without_outlier = movies_rating_clear[query]\n",
    "movies_rating_clear_without_outlier['rating'].describe()"
   ]
  },
  {
   "cell_type": "markdown",
   "id": "fef2250f-9e9a-4303-96a3-6d9ca1201dee",
   "metadata": {},
   "source": [
    "## Preparando as Tags"
   ]
  },
  {
   "cell_type": "code",
   "execution_count": 132,
   "id": "0d8c6ab3-d541-4d79-84e5-43b8f4c6bf10",
   "metadata": {},
   "outputs": [
    {
     "data": {
      "text/html": [
       "<div>\n",
       "<style scoped>\n",
       "    .dataframe tbody tr th:only-of-type {\n",
       "        vertical-align: middle;\n",
       "    }\n",
       "\n",
       "    .dataframe tbody tr th {\n",
       "        vertical-align: top;\n",
       "    }\n",
       "\n",
       "    .dataframe thead th {\n",
       "        text-align: right;\n",
       "    }\n",
       "</style>\n",
       "<table border=\"1\" class=\"dataframe\">\n",
       "  <thead>\n",
       "    <tr style=\"text-align: right;\">\n",
       "      <th></th>\n",
       "      <th>userId</th>\n",
       "      <th>movieId</th>\n",
       "      <th>tag</th>\n",
       "      <th>timestamp</th>\n",
       "    </tr>\n",
       "  </thead>\n",
       "  <tbody>\n",
       "    <tr>\n",
       "      <th>0</th>\n",
       "      <td>2</td>\n",
       "      <td>60756</td>\n",
       "      <td>funny</td>\n",
       "      <td>1445714994</td>\n",
       "    </tr>\n",
       "    <tr>\n",
       "      <th>1</th>\n",
       "      <td>2</td>\n",
       "      <td>60756</td>\n",
       "      <td>highly quotable</td>\n",
       "      <td>1445714996</td>\n",
       "    </tr>\n",
       "    <tr>\n",
       "      <th>2</th>\n",
       "      <td>2</td>\n",
       "      <td>60756</td>\n",
       "      <td>will ferrell</td>\n",
       "      <td>1445714992</td>\n",
       "    </tr>\n",
       "    <tr>\n",
       "      <th>3</th>\n",
       "      <td>2</td>\n",
       "      <td>89774</td>\n",
       "      <td>boxing story</td>\n",
       "      <td>1445715207</td>\n",
       "    </tr>\n",
       "    <tr>\n",
       "      <th>4</th>\n",
       "      <td>2</td>\n",
       "      <td>89774</td>\n",
       "      <td>mma</td>\n",
       "      <td>1445715200</td>\n",
       "    </tr>\n",
       "    <tr>\n",
       "      <th>...</th>\n",
       "      <td>...</td>\n",
       "      <td>...</td>\n",
       "      <td>...</td>\n",
       "      <td>...</td>\n",
       "    </tr>\n",
       "    <tr>\n",
       "      <th>3678</th>\n",
       "      <td>606</td>\n",
       "      <td>7382</td>\n",
       "      <td>for katie</td>\n",
       "      <td>1171234019</td>\n",
       "    </tr>\n",
       "    <tr>\n",
       "      <th>3679</th>\n",
       "      <td>606</td>\n",
       "      <td>7936</td>\n",
       "      <td>austere</td>\n",
       "      <td>1173392334</td>\n",
       "    </tr>\n",
       "    <tr>\n",
       "      <th>3680</th>\n",
       "      <td>610</td>\n",
       "      <td>3265</td>\n",
       "      <td>gun fu</td>\n",
       "      <td>1493843984</td>\n",
       "    </tr>\n",
       "    <tr>\n",
       "      <th>3681</th>\n",
       "      <td>610</td>\n",
       "      <td>3265</td>\n",
       "      <td>heroic bloodshed</td>\n",
       "      <td>1493843978</td>\n",
       "    </tr>\n",
       "    <tr>\n",
       "      <th>3682</th>\n",
       "      <td>610</td>\n",
       "      <td>168248</td>\n",
       "      <td>heroic bloodshed</td>\n",
       "      <td>1493844270</td>\n",
       "    </tr>\n",
       "  </tbody>\n",
       "</table>\n",
       "<p>3683 rows × 4 columns</p>\n",
       "</div>"
      ],
      "text/plain": [
       "      userId  movieId               tag   timestamp\n",
       "0          2    60756             funny  1445714994\n",
       "1          2    60756   highly quotable  1445714996\n",
       "2          2    60756      will ferrell  1445714992\n",
       "3          2    89774      boxing story  1445715207\n",
       "4          2    89774               mma  1445715200\n",
       "...      ...      ...               ...         ...\n",
       "3678     606     7382         for katie  1171234019\n",
       "3679     606     7936           austere  1173392334\n",
       "3680     610     3265            gun fu  1493843984\n",
       "3681     610     3265  heroic bloodshed  1493843978\n",
       "3682     610   168248  heroic bloodshed  1493844270\n",
       "\n",
       "[3683 rows x 4 columns]"
      ]
     },
     "execution_count": 132,
     "metadata": {},
     "output_type": "execute_result"
    }
   ],
   "source": [
    "tags['tag'] = tags['tag'].str.lower()\n",
    "tags"
   ]
  },
  {
   "cell_type": "markdown",
   "id": "f3ad0420-0f2f-4a8f-8a1f-308ca98bc7a8",
   "metadata": {},
   "source": [
    "## 3.1 -  Existe alguma correlação entre o ano de lançamento do filme e sua avaliação média (média de ratings)?"
   ]
  },
  {
   "cell_type": "code",
   "execution_count": 101,
   "id": "4191e6ab-face-46a0-8a64-2b9f50f6675c",
   "metadata": {},
   "outputs": [
    {
     "data": {
      "text/html": [
       "<div>\n",
       "<style scoped>\n",
       "    .dataframe tbody tr th:only-of-type {\n",
       "        vertical-align: middle;\n",
       "    }\n",
       "\n",
       "    .dataframe tbody tr th {\n",
       "        vertical-align: top;\n",
       "    }\n",
       "\n",
       "    .dataframe thead th {\n",
       "        text-align: right;\n",
       "    }\n",
       "</style>\n",
       "<table border=\"1\" class=\"dataframe\">\n",
       "  <thead>\n",
       "    <tr style=\"text-align: right;\">\n",
       "      <th></th>\n",
       "      <th>release_year</th>\n",
       "      <th>rating</th>\n",
       "    </tr>\n",
       "  </thead>\n",
       "  <tbody>\n",
       "    <tr>\n",
       "      <th>release_year</th>\n",
       "      <td>1.000000</td>\n",
       "      <td>-0.084033</td>\n",
       "    </tr>\n",
       "    <tr>\n",
       "      <th>rating</th>\n",
       "      <td>-0.084033</td>\n",
       "      <td>1.000000</td>\n",
       "    </tr>\n",
       "  </tbody>\n",
       "</table>\n",
       "</div>"
      ],
      "text/plain": [
       "              release_year    rating\n",
       "release_year      1.000000 -0.084033\n",
       "rating           -0.084033  1.000000"
      ]
     },
     "execution_count": 101,
     "metadata": {},
     "output_type": "execute_result"
    }
   ],
   "source": [
    "correlation_mean_yaer = movies_rating_clear[['release_year', 'rating']].corr()\n",
    "correlation_mean_yaer"
   ]
  },
  {
   "cell_type": "code",
   "execution_count": 102,
   "id": "149ff744-1451-45a0-9ce0-dfb55b1fdea7",
   "metadata": {},
   "outputs": [
    {
     "name": "stdout",
     "output_type": "stream",
     "text": [
      "O coeficiente de correlação entre o ano de lançamento dos filmes e suas avaliações é de -0.08403310469227955\n"
     ]
    }
   ],
   "source": [
    "print(f\"O coeficiente de correlação entre o ano de lançamento dos filmes e suas avaliações é de {correlation_mean_yaer.loc['release_year', 'rating']}\")"
   ]
  },
  {
   "cell_type": "markdown",
   "id": "b250f6c4-2d84-4888-96eb-096f80003dbd",
   "metadata": {},
   "source": [
    "## 3.2 - Qual o grupo mais disperso, o de usuários que avaliaram ou o de usuários que rotularam filmes? "
   ]
  },
  {
   "cell_type": "code",
   "execution_count": 141,
   "id": "6230ed02-23ed-4a34-ad41-874241423c35",
   "metadata": {},
   "outputs": [
    {
     "data": {
      "text/plain": [
       "userId\n",
       "2        9\n",
       "7        1\n",
       "18      16\n",
       "21       4\n",
       "49       3\n",
       "      ... \n",
       "573     31\n",
       "599    323\n",
       "600      1\n",
       "606      7\n",
       "610      3\n",
       "Name: tag, Length: 58, dtype: int64"
      ]
     },
     "execution_count": 141,
     "metadata": {},
     "output_type": "execute_result"
    }
   ],
   "source": [
    "user_rating = ratings.groupby('userId')\n",
    "user_tags = tags.groupby('userId')\n",
    "\n",
    "user_rating['rating'].count()\n",
    "user_tags['tag'].count()\n"
   ]
  },
  {
   "cell_type": "markdown",
   "id": "c00fe16a-9099-49ab-bb05-af23385660c8",
   "metadata": {},
   "source": [
    "## 3.3 - Qual a categoria rotulada mais frequente?"
   ]
  },
  {
   "cell_type": "code",
   "execution_count": 103,
   "id": "43d4e600-1c6d-4851-a3d5-9d437a0af375",
   "metadata": {},
   "outputs": [
    {
     "data": {
      "text/html": [
       "<div>\n",
       "<style scoped>\n",
       "    .dataframe tbody tr th:only-of-type {\n",
       "        vertical-align: middle;\n",
       "    }\n",
       "\n",
       "    .dataframe tbody tr th {\n",
       "        vertical-align: top;\n",
       "    }\n",
       "\n",
       "    .dataframe thead th {\n",
       "        text-align: right;\n",
       "    }\n",
       "</style>\n",
       "<table border=\"1\" class=\"dataframe\">\n",
       "  <thead>\n",
       "    <tr style=\"text-align: right;\">\n",
       "      <th></th>\n",
       "      <th>Genre</th>\n",
       "      <th>Count</th>\n",
       "    </tr>\n",
       "  </thead>\n",
       "  <tbody>\n",
       "    <tr>\n",
       "      <th>0</th>\n",
       "      <td>Drama</td>\n",
       "      <td>4361</td>\n",
       "    </tr>\n",
       "    <tr>\n",
       "      <th>1</th>\n",
       "      <td>Comedy</td>\n",
       "      <td>3756</td>\n",
       "    </tr>\n",
       "    <tr>\n",
       "      <th>2</th>\n",
       "      <td>Thriller</td>\n",
       "      <td>1894</td>\n",
       "    </tr>\n",
       "    <tr>\n",
       "      <th>3</th>\n",
       "      <td>Action</td>\n",
       "      <td>1828</td>\n",
       "    </tr>\n",
       "    <tr>\n",
       "      <th>4</th>\n",
       "      <td>Romance</td>\n",
       "      <td>1596</td>\n",
       "    </tr>\n",
       "    <tr>\n",
       "      <th>...</th>\n",
       "      <td>...</td>\n",
       "      <td>...</td>\n",
       "    </tr>\n",
       "    <tr>\n",
       "      <th>15</th>\n",
       "      <td>Musical</td>\n",
       "      <td>334</td>\n",
       "    </tr>\n",
       "    <tr>\n",
       "      <th>16</th>\n",
       "      <td>Western</td>\n",
       "      <td>167</td>\n",
       "    </tr>\n",
       "    <tr>\n",
       "      <th>17</th>\n",
       "      <td>IMAX</td>\n",
       "      <td>158</td>\n",
       "    </tr>\n",
       "    <tr>\n",
       "      <th>18</th>\n",
       "      <td>Film-Noir</td>\n",
       "      <td>87</td>\n",
       "    </tr>\n",
       "    <tr>\n",
       "      <th>19</th>\n",
       "      <td>(no genres listed)</td>\n",
       "      <td>34</td>\n",
       "    </tr>\n",
       "  </tbody>\n",
       "</table>\n",
       "<p>20 rows × 2 columns</p>\n",
       "</div>"
      ],
      "text/plain": [
       "                 Genre  Count\n",
       "0                Drama   4361\n",
       "1               Comedy   3756\n",
       "2             Thriller   1894\n",
       "3               Action   1828\n",
       "4              Romance   1596\n",
       "..                 ...    ...\n",
       "15             Musical    334\n",
       "16             Western    167\n",
       "17                IMAX    158\n",
       "18           Film-Noir     87\n",
       "19  (no genres listed)     34\n",
       "\n",
       "[20 rows x 2 columns]"
      ]
     },
     "execution_count": 103,
     "metadata": {},
     "output_type": "execute_result"
    }
   ],
   "source": [
    "#Separendo a coluna de generos e expandindo o resultado para um dataframe\n",
    "genres_series = movies['genres'].str.split('|', expand=True)\n",
    "\n",
    "#Agrupando o dataframe em uma serie\n",
    "genres_series_to_count = genres_series.stack()\n",
    "\n",
    "#Realizando a contragem de aparição de generos\n",
    "genres_series_to_count.value_counts()\n",
    "\n",
    "#Apresentando a contagem de categorias\n",
    "genres_count = pd.DataFrame(genres_series_to_count.value_counts()).reset_index()\n",
    "genres_count.columns = ['Genre','Count']\n",
    "genres_count"
   ]
  },
  {
   "cell_type": "code",
   "execution_count": 104,
   "id": "d7c97638-96b1-4c86-805e-710dcbc55769",
   "metadata": {},
   "outputs": [
    {
     "name": "stdout",
     "output_type": "stream",
     "text": [
      "A categoria rotulada com mais frequência é de Drama\n"
     ]
    }
   ],
   "source": [
    "print(f\"A categoria rotulada com mais frequência é de {genres_count['Genre'][0]}\")"
   ]
  },
  {
   "cell_type": "code",
   "execution_count": 105,
   "id": "2fef6dde-afcb-4144-899b-a65f0ba67ddb",
   "metadata": {},
   "outputs": [
    {
     "data": {
      "text/plain": [
       "[Text(0.5, 0, 'Contagem'),\n",
       " Text(0, 0.5, 'Genero'),\n",
       " Text(0.5, 1.0, 'Frequencia de rotulação')]"
      ]
     },
     "execution_count": 105,
     "metadata": {},
     "output_type": "execute_result"
    },
    {
     "data": {
      "image/png": "[encoded data removed]",
      "text/plain": [
       "<Figure size 1080x720 with 1 Axes>"
      ]
     },
     "metadata": {
      "needs_background": "light"
     },
     "output_type": "display_data"
    }
   ],
   "source": [
    "plt.figure(figsize=(15, 10))\n",
    "freqence_genre = sns.barplot(data=genres_count, y=genres_count['Genre'], x=genres_count['Count'])\n",
    "freqence_genre.set(xlabel=\"Contagem\", ylabel=\"Genero\", title=\"Frequencia de rotulação\")"
   ]
  },
  {
   "cell_type": "markdown",
   "id": "4ba7f0f8-1d4f-4c3b-a130-990bc2988801",
   "metadata": {},
   "source": [
    "## 3.4 - Como estão distribuídas as avaliações ao longo do tempo?"
   ]
  },
  {
   "cell_type": "code",
   "execution_count": 106,
   "id": "cdec3c4e-78e3-4266-bb10-abc2f0589c03",
   "metadata": {},
   "outputs": [
    {
     "data": {
      "text/plain": [
       "<AxesSubplot:title={'center':'Evolução das média de acordo com o ano de lançamento'}, xlabel='Ano de lançamento', ylabel='Média'>"
      ]
     },
     "execution_count": 106,
     "metadata": {},
     "output_type": "execute_result"
    },
    {
     "data": {
      "image/png": "[encoded data removed]",
      "text/plain": [
       "<Figure size 1080x720 with 1 Axes>"
      ]
     },
     "metadata": {
      "needs_background": "light"
     },
     "output_type": "display_data"
    }
   ],
   "source": [
    "plt.figure(figsize=(15, 10))\n",
    "graph_mean_evolution = sns.lineplot(x=mean_per_year.index, y=mean_per_year.values, data=mean_per_year)\n",
    "graph_mean_evolution.set(ylabel=\"Média\", xlabel=\"Ano de lançamento\", title=\"Evolução das média de acordo com o ano de lançamento\")\n",
    "graph_mean_evolution"
   ]
  },
  {
   "cell_type": "markdown",
   "id": "62fc2cf7-1001-4704-b23a-5172c3ee0ecb",
   "metadata": {},
   "source": [
    "## 3.5 - A média de notas significa grande número de avaliações?"
   ]
  },
  {
   "cell_type": "code",
   "execution_count": 107,
   "id": "ce24d91f-c3d6-4e13-b469-e03d9232fab4",
   "metadata": {},
   "outputs": [
    {
     "data": {
      "text/html": [
       "<div>\n",
       "<style scoped>\n",
       "    .dataframe tbody tr th:only-of-type {\n",
       "        vertical-align: middle;\n",
       "    }\n",
       "\n",
       "    .dataframe tbody tr th {\n",
       "        vertical-align: top;\n",
       "    }\n",
       "\n",
       "    .dataframe thead th {\n",
       "        text-align: right;\n",
       "    }\n",
       "</style>\n",
       "<table border=\"1\" class=\"dataframe\">\n",
       "  <thead>\n",
       "    <tr style=\"text-align: right;\">\n",
       "      <th></th>\n",
       "      <th>Média de Notas</th>\n",
       "      <th>Número de Avaliações</th>\n",
       "    </tr>\n",
       "    <tr>\n",
       "      <th>movieId</th>\n",
       "      <th></th>\n",
       "      <th></th>\n",
       "    </tr>\n",
       "  </thead>\n",
       "  <tbody>\n",
       "    <tr>\n",
       "      <th>356</th>\n",
       "      <td>4.164134</td>\n",
       "      <td>329</td>\n",
       "    </tr>\n",
       "    <tr>\n",
       "      <th>318</th>\n",
       "      <td>4.429022</td>\n",
       "      <td>317</td>\n",
       "    </tr>\n",
       "    <tr>\n",
       "      <th>296</th>\n",
       "      <td>4.197068</td>\n",
       "      <td>307</td>\n",
       "    </tr>\n",
       "    <tr>\n",
       "      <th>593</th>\n",
       "      <td>4.161290</td>\n",
       "      <td>279</td>\n",
       "    </tr>\n",
       "    <tr>\n",
       "      <th>2571</th>\n",
       "      <td>4.192446</td>\n",
       "      <td>278</td>\n",
       "    </tr>\n",
       "    <tr>\n",
       "      <th>...</th>\n",
       "      <td>...</td>\n",
       "      <td>...</td>\n",
       "    </tr>\n",
       "    <tr>\n",
       "      <th>71268</th>\n",
       "      <td>5.000000</td>\n",
       "      <td>1</td>\n",
       "    </tr>\n",
       "    <tr>\n",
       "      <th>6329</th>\n",
       "      <td>3.000000</td>\n",
       "      <td>1</td>\n",
       "    </tr>\n",
       "    <tr>\n",
       "      <th>71302</th>\n",
       "      <td>4.500000</td>\n",
       "      <td>1</td>\n",
       "    </tr>\n",
       "    <tr>\n",
       "      <th>71327</th>\n",
       "      <td>3.500000</td>\n",
       "      <td>1</td>\n",
       "    </tr>\n",
       "    <tr>\n",
       "      <th>193609</th>\n",
       "      <td>4.000000</td>\n",
       "      <td>1</td>\n",
       "    </tr>\n",
       "  </tbody>\n",
       "</table>\n",
       "<p>9712 rows × 2 columns</p>\n",
       "</div>"
      ],
      "text/plain": [
       "         Média de Notas  Número de Avaliações\n",
       "movieId                                      \n",
       "356            4.164134                   329\n",
       "318            4.429022                   317\n",
       "296            4.197068                   307\n",
       "593            4.161290                   279\n",
       "2571           4.192446                   278\n",
       "...                 ...                   ...\n",
       "71268          5.000000                     1\n",
       "6329           3.000000                     1\n",
       "71302          4.500000                     1\n",
       "71327          3.500000                     1\n",
       "193609         4.000000                     1\n",
       "\n",
       "[9712 rows x 2 columns]"
      ]
     },
     "execution_count": 107,
     "metadata": {},
     "output_type": "execute_result"
    }
   ],
   "source": [
    "movie_mean = movies_rating_clear.groupby('movieId')['rating'].mean()\n",
    "movie_evaluation = movies_rating_clear.groupby('movieId')['rating'].count()\n",
    "movie_mean_evaluation = pd.DataFrame({\"Média de Notas\": movie_mean, \"Número de Avaliações\": movie_evaluation})\n",
    "movie_mean_evaluation.sort_values(by='Número de Avaliações', ascending=False)"
   ]
  },
  {
   "cell_type": "markdown",
   "id": "d3762722-c823-4ed7-a3ad-3374a4d33b4a",
   "metadata": {},
   "source": [
    "## 3.6 - As piores notas são de filmes muito avaliados?"
   ]
  },
  {
   "cell_type": "code",
   "execution_count": 108,
   "id": "02bfdb53-ef30-4254-adb9-cdbf993a1924",
   "metadata": {},
   "outputs": [
    {
     "data": {
      "text/html": [
       "<div>\n",
       "<style scoped>\n",
       "    .dataframe tbody tr th:only-of-type {\n",
       "        vertical-align: middle;\n",
       "    }\n",
       "\n",
       "    .dataframe tbody tr th {\n",
       "        vertical-align: top;\n",
       "    }\n",
       "\n",
       "    .dataframe thead th {\n",
       "        text-align: right;\n",
       "    }\n",
       "</style>\n",
       "<table border=\"1\" class=\"dataframe\">\n",
       "  <thead>\n",
       "    <tr style=\"text-align: right;\">\n",
       "      <th></th>\n",
       "      <th>Média de Notas</th>\n",
       "      <th>Número de Avaliações</th>\n",
       "    </tr>\n",
       "    <tr>\n",
       "      <th>movieId</th>\n",
       "      <th></th>\n",
       "      <th></th>\n",
       "    </tr>\n",
       "  </thead>\n",
       "  <tbody>\n",
       "    <tr>\n",
       "      <th>5356</th>\n",
       "      <td>0.5</td>\n",
       "      <td>1</td>\n",
       "    </tr>\n",
       "    <tr>\n",
       "      <th>8494</th>\n",
       "      <td>0.5</td>\n",
       "      <td>1</td>\n",
       "    </tr>\n",
       "    <tr>\n",
       "      <th>5105</th>\n",
       "      <td>0.5</td>\n",
       "      <td>1</td>\n",
       "    </tr>\n",
       "    <tr>\n",
       "      <th>8632</th>\n",
       "      <td>0.5</td>\n",
       "      <td>1</td>\n",
       "    </tr>\n",
       "    <tr>\n",
       "      <th>144352</th>\n",
       "      <td>0.5</td>\n",
       "      <td>1</td>\n",
       "    </tr>\n",
       "    <tr>\n",
       "      <th>...</th>\n",
       "      <td>...</td>\n",
       "      <td>...</td>\n",
       "    </tr>\n",
       "    <tr>\n",
       "      <th>170777</th>\n",
       "      <td>5.0</td>\n",
       "      <td>1</td>\n",
       "    </tr>\n",
       "    <tr>\n",
       "      <th>4402</th>\n",
       "      <td>5.0</td>\n",
       "      <td>1</td>\n",
       "    </tr>\n",
       "    <tr>\n",
       "      <th>96430</th>\n",
       "      <td>5.0</td>\n",
       "      <td>1</td>\n",
       "    </tr>\n",
       "    <tr>\n",
       "      <th>113829</th>\n",
       "      <td>5.0</td>\n",
       "      <td>1</td>\n",
       "    </tr>\n",
       "    <tr>\n",
       "      <th>6192</th>\n",
       "      <td>5.0</td>\n",
       "      <td>1</td>\n",
       "    </tr>\n",
       "  </tbody>\n",
       "</table>\n",
       "<p>9712 rows × 2 columns</p>\n",
       "</div>"
      ],
      "text/plain": [
       "         Média de Notas  Número de Avaliações\n",
       "movieId                                      \n",
       "5356                0.5                     1\n",
       "8494                0.5                     1\n",
       "5105                0.5                     1\n",
       "8632                0.5                     1\n",
       "144352              0.5                     1\n",
       "...                 ...                   ...\n",
       "170777              5.0                     1\n",
       "4402                5.0                     1\n",
       "96430               5.0                     1\n",
       "113829              5.0                     1\n",
       "6192                5.0                     1\n",
       "\n",
       "[9712 rows x 2 columns]"
      ]
     },
     "execution_count": 108,
     "metadata": {},
     "output_type": "execute_result"
    }
   ],
   "source": [
    "movie_mean_evaluation.sort_values(by='Média de Notas', ascending=True)"
   ]
  },
  {
   "cell_type": "markdown",
   "id": "ad7997dc-45ca-4cdb-9f67-f6ed3c1c325e",
   "metadata": {},
   "source": [
    "## 3.7 -  Quais as cetegorias com a melhores médias?"
   ]
  },
  {
   "cell_type": "code",
   "execution_count": 109,
   "id": "65f326c4-ac57-4f0e-8990-0196d0c130d9",
   "metadata": {},
   "outputs": [
    {
     "name": "stderr",
     "output_type": "stream",
     "text": [
      "/Users/evandrodepaula/Documents/pos/ds/lib/python3.9/site-packages/pandas/core/strings/accessor.py:101: UserWarning: This pattern has match groups. To actually get the groups, use str.extract.\n",
      "  return func(self, *args, **kwargs)\n"
     ]
    },
    {
     "data": {
      "text/html": [
       "<div>\n",
       "<style scoped>\n",
       "    .dataframe tbody tr th:only-of-type {\n",
       "        vertical-align: middle;\n",
       "    }\n",
       "\n",
       "    .dataframe tbody tr th {\n",
       "        vertical-align: top;\n",
       "    }\n",
       "\n",
       "    .dataframe thead th {\n",
       "        text-align: right;\n",
       "    }\n",
       "</style>\n",
       "<table border=\"1\" class=\"dataframe\">\n",
       "  <thead>\n",
       "    <tr style=\"text-align: right;\">\n",
       "      <th></th>\n",
       "      <th>genero</th>\n",
       "      <th>media</th>\n",
       "    </tr>\n",
       "  </thead>\n",
       "  <tbody>\n",
       "    <tr>\n",
       "      <th>0</th>\n",
       "      <td>Film-Noir</td>\n",
       "      <td>3.972547</td>\n",
       "    </tr>\n",
       "    <tr>\n",
       "      <th>1</th>\n",
       "      <td>War</td>\n",
       "      <td>3.890357</td>\n",
       "    </tr>\n",
       "    <tr>\n",
       "      <th>2</th>\n",
       "      <td>Documentary</td>\n",
       "      <td>3.851713</td>\n",
       "    </tr>\n",
       "    <tr>\n",
       "      <th>3</th>\n",
       "      <td>Crime</td>\n",
       "      <td>3.740560</td>\n",
       "    </tr>\n",
       "    <tr>\n",
       "      <th>4</th>\n",
       "      <td>Drama</td>\n",
       "      <td>3.739405</td>\n",
       "    </tr>\n",
       "    <tr>\n",
       "      <th>...</th>\n",
       "      <td>...</td>\n",
       "      <td>...</td>\n",
       "    </tr>\n",
       "    <tr>\n",
       "      <th>15</th>\n",
       "      <td>Sci-Fi</td>\n",
       "      <td>3.586729</td>\n",
       "    </tr>\n",
       "    <tr>\n",
       "      <th>16</th>\n",
       "      <td>Action</td>\n",
       "      <td>3.568772</td>\n",
       "    </tr>\n",
       "    <tr>\n",
       "      <th>17</th>\n",
       "      <td>Children</td>\n",
       "      <td>3.552415</td>\n",
       "    </tr>\n",
       "    <tr>\n",
       "      <th>18</th>\n",
       "      <td>Comedy</td>\n",
       "      <td>3.518502</td>\n",
       "    </tr>\n",
       "    <tr>\n",
       "      <th>19</th>\n",
       "      <td>Horror</td>\n",
       "      <td>3.447672</td>\n",
       "    </tr>\n",
       "  </tbody>\n",
       "</table>\n",
       "<p>20 rows × 2 columns</p>\n",
       "</div>"
      ],
      "text/plain": [
       "         genero     media\n",
       "0     Film-Noir  3.972547\n",
       "1           War  3.890357\n",
       "2   Documentary  3.851713\n",
       "3         Crime  3.740560\n",
       "4         Drama  3.739405\n",
       "..          ...       ...\n",
       "15       Sci-Fi  3.586729\n",
       "16       Action  3.568772\n",
       "17     Children  3.552415\n",
       "18       Comedy  3.518502\n",
       "19       Horror  3.447672\n",
       "\n",
       "[20 rows x 2 columns]"
      ]
     },
     "execution_count": 109,
     "metadata": {},
     "output_type": "execute_result"
    }
   ],
   "source": [
    "genre_rating = movies_rating_clear_without_outlier[['genres','rating']].reset_index()\n",
    "ratings_genre = {}\n",
    "for i in range(len(genres_count['Genre'])):\n",
    "    genre = genres_count['Genre'][i]\n",
    "    ratings_genre[genre] = genre_rating[genre_rating['genres'].str.contains(genres_count['Genre'][i])]['rating']\n",
    "\n",
    "mean_for_genre = {}\n",
    "for key in ratings_genre:\n",
    "    mean_for_genre[key] = ratings_genre[key].mean()\n",
    "\n",
    "movies_genre_mean_df = pd.DataFrame(mean_for_genre, index=[0]).T.reset_index()\n",
    "movies_genre_mean_df.columns = ['genero', 'media']\n",
    "movies_genre_mean_df.sort_values(by='media', ascending=False, inplace=True)\n",
    "movies_genre_mean_df.reset_index(drop=True)"
   ]
  },
  {
   "cell_type": "code",
   "execution_count": 124,
   "id": "c3ad1df9-a325-4083-8f12-f27973324a5a",
   "metadata": {},
   "outputs": [
    {
     "data": {
      "text/plain": [
       "[Text(0.5, 1.0, 'Categorias com melhores avalaiações')]"
      ]
     },
     "execution_count": 124,
     "metadata": {},
     "output_type": "execute_result"
    },
    {
     "data": {
      "image/png": "[encoded data removed]",
      "text/plain": [
       "<Figure size 1080x720 with 1 Axes>"
      ]
     },
     "metadata": {
      "needs_background": "light"
     },
     "output_type": "display_data"
    }
   ],
   "source": [
    "plt.figure(figsize=(15, 10))\n",
    "best_genre = sns.barplot(data=movies_genre_mean_df, y=movies_genre_mean_df['genero'], x=movies_genre_mean_df['media'])\n",
    "best_genre.set(title=\"Categorias com melhores avalaiações\")"
   ]
  },
  {
   "cell_type": "code",
   "execution_count": 110,
   "id": "4fd7db1a-3eb3-4feb-ba30-1b485bd5c8a8",
   "metadata": {},
   "outputs": [
    {
     "data": {
      "text/plain": [
       "[Text(0.5, 0, 'Média dos generos'),\n",
       " Text(0.5, 1.0, 'Distribuição das médias dos generos')]"
      ]
     },
     "execution_count": 110,
     "metadata": {},
     "output_type": "execute_result"
    },
    {
     "data": {
      "image/png": "[encoded data removed]",
      "text/plain": [
       "<Figure size 1080x720 with 1 Axes>"
      ]
     },
     "metadata": {
      "needs_background": "light"
     },
     "output_type": "display_data"
    }
   ],
   "source": [
    "plt.figure(figsize=(15, 10))\n",
    "hist_genre_mean = sns.histplot(data=movies_genre_mean_df)\n",
    "hist_genre_mean.set(xlabel='Média dos generos', title= \"Distribuição das médias dos generos\", )"
   ]
  },
  {
   "cell_type": "markdown",
   "id": "42fa270d-e67a-4ef5-87f5-f1d568d87b8e",
   "metadata": {},
   "source": [
    "## 3.8 - Os outliers influenciam nas análises"
   ]
  },
  {
   "cell_type": "code",
   "execution_count": 119,
   "id": "402551f1-f329-4dbf-a36d-4ab5da5dfc2d",
   "metadata": {},
   "outputs": [
    {
     "name": "stderr",
     "output_type": "stream",
     "text": [
      "/Users/evandrodepaula/Documents/pos/ds/lib/python3.9/site-packages/pandas/core/strings/accessor.py:101: UserWarning: This pattern has match groups. To actually get the groups, use str.extract.\n",
      "  return func(self, *args, **kwargs)\n"
     ]
    }
   ],
   "source": [
    "genre_rating_with_outliers = movies_rating_clear[['genres','rating']].reset_index()\n",
    "ratings_genre = {}\n",
    "for i in range(len(genres_count['Genre'])):\n",
    "    genre = genres_count['Genre'][i]\n",
    "    ratings_genre[genre] = genre_rating_with_outliers[genre_rating_with_outliers['genres'].str.contains(genres_count['Genre'][i])]['rating']\n",
    "\n",
    "mean_for_genre = {}\n",
    "for key in ratings_genre:\n",
    "    mean_for_genre[key] = ratings_genre[key].mean()\n",
    "\n",
    "movies_genre_mean_df_with_outlier = pd.DataFrame(mean_for_genre, index=[0]).T.reset_index()\n",
    "movies_genre_mean_df_with_outlier.columns = ['genero', 'media']\n",
    "movies_genre_mean_df_with_outlier.sort_values(by='media', ascending=False, inplace=True)"
   ]
  },
  {
   "cell_type": "markdown",
   "id": "96aa63cb-3de0-4507-9c43-96c72c9dc9a1",
   "metadata": {},
   "source": [
    "#### Com outliers"
   ]
  },
  {
   "cell_type": "code",
   "execution_count": 120,
   "id": "50273a6c-8993-47a5-9574-50a209bbb5af",
   "metadata": {},
   "outputs": [
    {
     "data": {
      "text/html": [
       "<div>\n",
       "<style scoped>\n",
       "    .dataframe tbody tr th:only-of-type {\n",
       "        vertical-align: middle;\n",
       "    }\n",
       "\n",
       "    .dataframe tbody tr th {\n",
       "        vertical-align: top;\n",
       "    }\n",
       "\n",
       "    .dataframe thead th {\n",
       "        text-align: right;\n",
       "    }\n",
       "</style>\n",
       "<table border=\"1\" class=\"dataframe\">\n",
       "  <thead>\n",
       "    <tr style=\"text-align: right;\">\n",
       "      <th></th>\n",
       "      <th>genero</th>\n",
       "      <th>media</th>\n",
       "    </tr>\n",
       "  </thead>\n",
       "  <tbody>\n",
       "    <tr>\n",
       "      <th>0</th>\n",
       "      <td>Film-Noir</td>\n",
       "      <td>3.920115</td>\n",
       "    </tr>\n",
       "    <tr>\n",
       "      <th>1</th>\n",
       "      <td>War</td>\n",
       "      <td>3.808294</td>\n",
       "    </tr>\n",
       "    <tr>\n",
       "      <th>2</th>\n",
       "      <td>Documentary</td>\n",
       "      <td>3.797785</td>\n",
       "    </tr>\n",
       "    <tr>\n",
       "      <th>3</th>\n",
       "      <td>Crime</td>\n",
       "      <td>3.658294</td>\n",
       "    </tr>\n",
       "    <tr>\n",
       "      <th>4</th>\n",
       "      <td>Drama</td>\n",
       "      <td>3.656168</td>\n",
       "    </tr>\n",
       "    <tr>\n",
       "      <th>...</th>\n",
       "      <td>...</td>\n",
       "      <td>...</td>\n",
       "    </tr>\n",
       "    <tr>\n",
       "      <th>15</th>\n",
       "      <td>Action</td>\n",
       "      <td>3.447978</td>\n",
       "    </tr>\n",
       "    <tr>\n",
       "      <th>16</th>\n",
       "      <td>(no genres listed)</td>\n",
       "      <td>3.421053</td>\n",
       "    </tr>\n",
       "    <tr>\n",
       "      <th>17</th>\n",
       "      <td>Children</td>\n",
       "      <td>3.412956</td>\n",
       "    </tr>\n",
       "    <tr>\n",
       "      <th>18</th>\n",
       "      <td>Comedy</td>\n",
       "      <td>3.384721</td>\n",
       "    </tr>\n",
       "    <tr>\n",
       "      <th>19</th>\n",
       "      <td>Horror</td>\n",
       "      <td>3.258195</td>\n",
       "    </tr>\n",
       "  </tbody>\n",
       "</table>\n",
       "<p>20 rows × 2 columns</p>\n",
       "</div>"
      ],
      "text/plain": [
       "                genero     media\n",
       "0            Film-Noir  3.920115\n",
       "1                  War  3.808294\n",
       "2          Documentary  3.797785\n",
       "3                Crime  3.658294\n",
       "4                Drama  3.656168\n",
       "..                 ...       ...\n",
       "15              Action  3.447978\n",
       "16  (no genres listed)  3.421053\n",
       "17            Children  3.412956\n",
       "18              Comedy  3.384721\n",
       "19              Horror  3.258195\n",
       "\n",
       "[20 rows x 2 columns]"
      ]
     },
     "execution_count": 120,
     "metadata": {},
     "output_type": "execute_result"
    }
   ],
   "source": [
    "movies_genre_mean_df_with_outlier.reset_index(drop=True)"
   ]
  },
  {
   "cell_type": "markdown",
   "id": "c3f4bd0f-8015-42b5-bbb3-625148d410ce",
   "metadata": {},
   "source": [
    "#### Sem outliers"
   ]
  },
  {
   "cell_type": "code",
   "execution_count": 121,
   "id": "55a9c42b-f5d8-45f0-a3ad-64884064bc49",
   "metadata": {},
   "outputs": [
    {
     "data": {
      "text/html": [
       "<div>\n",
       "<style scoped>\n",
       "    .dataframe tbody tr th:only-of-type {\n",
       "        vertical-align: middle;\n",
       "    }\n",
       "\n",
       "    .dataframe tbody tr th {\n",
       "        vertical-align: top;\n",
       "    }\n",
       "\n",
       "    .dataframe thead th {\n",
       "        text-align: right;\n",
       "    }\n",
       "</style>\n",
       "<table border=\"1\" class=\"dataframe\">\n",
       "  <thead>\n",
       "    <tr style=\"text-align: right;\">\n",
       "      <th></th>\n",
       "      <th>genero</th>\n",
       "      <th>media</th>\n",
       "    </tr>\n",
       "  </thead>\n",
       "  <tbody>\n",
       "    <tr>\n",
       "      <th>0</th>\n",
       "      <td>Film-Noir</td>\n",
       "      <td>3.920115</td>\n",
       "    </tr>\n",
       "    <tr>\n",
       "      <th>1</th>\n",
       "      <td>War</td>\n",
       "      <td>3.808294</td>\n",
       "    </tr>\n",
       "    <tr>\n",
       "      <th>2</th>\n",
       "      <td>Documentary</td>\n",
       "      <td>3.797785</td>\n",
       "    </tr>\n",
       "    <tr>\n",
       "      <th>3</th>\n",
       "      <td>Crime</td>\n",
       "      <td>3.658294</td>\n",
       "    </tr>\n",
       "    <tr>\n",
       "      <th>4</th>\n",
       "      <td>Drama</td>\n",
       "      <td>3.656168</td>\n",
       "    </tr>\n",
       "    <tr>\n",
       "      <th>...</th>\n",
       "      <td>...</td>\n",
       "      <td>...</td>\n",
       "    </tr>\n",
       "    <tr>\n",
       "      <th>15</th>\n",
       "      <td>Action</td>\n",
       "      <td>3.447978</td>\n",
       "    </tr>\n",
       "    <tr>\n",
       "      <th>16</th>\n",
       "      <td>(no genres listed)</td>\n",
       "      <td>3.421053</td>\n",
       "    </tr>\n",
       "    <tr>\n",
       "      <th>17</th>\n",
       "      <td>Children</td>\n",
       "      <td>3.412956</td>\n",
       "    </tr>\n",
       "    <tr>\n",
       "      <th>18</th>\n",
       "      <td>Comedy</td>\n",
       "      <td>3.384721</td>\n",
       "    </tr>\n",
       "    <tr>\n",
       "      <th>19</th>\n",
       "      <td>Horror</td>\n",
       "      <td>3.258195</td>\n",
       "    </tr>\n",
       "  </tbody>\n",
       "</table>\n",
       "<p>20 rows × 2 columns</p>\n",
       "</div>"
      ],
      "text/plain": [
       "                genero     media\n",
       "0            Film-Noir  3.920115\n",
       "1                  War  3.808294\n",
       "2          Documentary  3.797785\n",
       "3                Crime  3.658294\n",
       "4                Drama  3.656168\n",
       "..                 ...       ...\n",
       "15              Action  3.447978\n",
       "16  (no genres listed)  3.421053\n",
       "17            Children  3.412956\n",
       "18              Comedy  3.384721\n",
       "19              Horror  3.258195\n",
       "\n",
       "[20 rows x 2 columns]"
      ]
     },
     "execution_count": 121,
     "metadata": {},
     "output_type": "execute_result"
    }
   ],
   "source": [
    "movies_genre_mean_df.reset_index(drop=True)"
   ]
  },
  {
   "cell_type": "markdown",
   "id": "5d86ff45-ea85-4e9c-836d-5aa682fbdabc",
   "metadata": {},
   "source": [
    "## 3.9 -"
   ]
  },
  {
   "cell_type": "markdown",
   "id": "d4b0795a-387c-43cd-9f6e-38ac58ebb17b",
   "metadata": {},
   "source": [
    "## 3.10 -"
   ]
  }
 ],
 "metadata": {
  "kernelspec": {
   "display_name": "Python 3",
   "language": "python",
   "name": "python3"
  },
  "language_info": {
   "codemirror_mode": {
    "name": "ipython",
    "version": 3
   },
   "file_extension": ".py",
   "mimetype": "text/x-python",
   "name": "python",
   "nbconvert_exporter": "python",
   "pygments_lexer": "ipython3",
   "version": "3.9.4"
  }
 },
 "nbformat": 4,
 "nbformat_minor": 5
}
