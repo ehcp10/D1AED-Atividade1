{
 "cells": [
  {
   "cell_type": "markdown",
   "id": "b9d1bb1c-0d6d-4ac3-88d6-b7aacdfbba4c",
   "metadata": {},
   "source": [
    "# D1AED – Anâlise Estâtísticâ pârâ Ciência de Dados\n",
    "\n",
    "## Atividâde em Dupla 1\n",
    "\n",
    "### Alunos\n",
    "Evandro Henrique Couto de Paula. Prontuário: CP301358-8<br>\n",
    "Jessé de Freitas. Prontuário:"
   ]
  },
  {
   "cell_type": "code",
   "execution_count": 1,
   "id": "d52f1a1e-8fa9-476f-a6fd-ef0d2bdc9247",
   "metadata": {},
   "outputs": [],
   "source": [
    "import pandas as pd\n",
    "import numpy as np\n",
    "import seaborn as sns\n",
    "import matplotlib.pyplot as plt"
   ]
  },
  {
   "cell_type": "code",
   "execution_count": 2,
   "id": "8b7c7bd8-3584-4179-bcfb-c0f7c673e82e",
   "metadata": {},
   "outputs": [],
   "source": [
    "# Carregando datasets\n",
    "movies = pd.read_csv('ml-latest-small/movies.csv')\n",
    "links = pd.read_csv('ml-latest-small/links.csv')\n",
    "ratings = pd.read_csv('ml-latest-small/ratings.csv')\n",
    "tags = pd.read_csv('ml-latest-small/tags.csv')"
   ]
  },
  {
   "cell_type": "markdown",
   "id": "03caf523-44ca-4999-a09e-726b02c0d206",
   "metadata": {},
   "source": [
    "#### Análise movies"
   ]
  },
  {
   "cell_type": "code",
   "execution_count": 3,
   "id": "16d7599d-7ed0-4771-9144-ddd2cc5d3a9d",
   "metadata": {},
   "outputs": [
    {
     "name": "stdout",
     "output_type": "stream",
     "text": [
      "<class 'pandas.core.frame.DataFrame'>\n",
      "RangeIndex: 9742 entries, 0 to 9741\n",
      "Data columns (total 3 columns):\n",
      " #   Column   Non-Null Count  Dtype \n",
      "---  ------   --------------  ----- \n",
      " 0   movieId  9742 non-null   int64 \n",
      " 1   title    9742 non-null   object\n",
      " 2   genres   9742 non-null   object\n",
      "dtypes: int64(1), object(2)\n",
      "memory usage: 228.5+ KB\n"
     ]
    }
   ],
   "source": [
    "movies.info()"
   ]
  },
  {
   "cell_type": "code",
   "execution_count": 4,
   "id": "bf89ba2c-bbae-41a3-9fdb-df467f7f15d8",
   "metadata": {},
   "outputs": [
    {
     "data": {
      "text/html": [
       "<div>\n",
       "<style scoped>\n",
       "    .dataframe tbody tr th:only-of-type {\n",
       "        vertical-align: middle;\n",
       "    }\n",
       "\n",
       "    .dataframe tbody tr th {\n",
       "        vertical-align: top;\n",
       "    }\n",
       "\n",
       "    .dataframe thead th {\n",
       "        text-align: right;\n",
       "    }\n",
       "</style>\n",
       "<table border=\"1\" class=\"dataframe\">\n",
       "  <thead>\n",
       "    <tr style=\"text-align: right;\">\n",
       "      <th></th>\n",
       "      <th>movieId</th>\n",
       "      <th>title</th>\n",
       "      <th>genres</th>\n",
       "    </tr>\n",
       "  </thead>\n",
       "  <tbody>\n",
       "    <tr>\n",
       "      <th>0</th>\n",
       "      <td>1</td>\n",
       "      <td>Toy Story (1995)</td>\n",
       "      <td>Adventure|Animation|Children|Comedy|Fantasy</td>\n",
       "    </tr>\n",
       "    <tr>\n",
       "      <th>1</th>\n",
       "      <td>2</td>\n",
       "      <td>Jumanji (1995)</td>\n",
       "      <td>Adventure|Children|Fantasy</td>\n",
       "    </tr>\n",
       "    <tr>\n",
       "      <th>2</th>\n",
       "      <td>3</td>\n",
       "      <td>Grumpier Old Men (1995)</td>\n",
       "      <td>Comedy|Romance</td>\n",
       "    </tr>\n",
       "    <tr>\n",
       "      <th>3</th>\n",
       "      <td>4</td>\n",
       "      <td>Waiting to Exhale (1995)</td>\n",
       "      <td>Comedy|Drama|Romance</td>\n",
       "    </tr>\n",
       "    <tr>\n",
       "      <th>4</th>\n",
       "      <td>5</td>\n",
       "      <td>Father of the Bride Part II (1995)</td>\n",
       "      <td>Comedy</td>\n",
       "    </tr>\n",
       "  </tbody>\n",
       "</table>\n",
       "</div>"
      ],
      "text/plain": [
       "   movieId                               title  \\\n",
       "0        1                    Toy Story (1995)   \n",
       "1        2                      Jumanji (1995)   \n",
       "2        3             Grumpier Old Men (1995)   \n",
       "3        4            Waiting to Exhale (1995)   \n",
       "4        5  Father of the Bride Part II (1995)   \n",
       "\n",
       "                                        genres  \n",
       "0  Adventure|Animation|Children|Comedy|Fantasy  \n",
       "1                   Adventure|Children|Fantasy  \n",
       "2                               Comedy|Romance  \n",
       "3                         Comedy|Drama|Romance  \n",
       "4                                       Comedy  "
      ]
     },
     "execution_count": 4,
     "metadata": {},
     "output_type": "execute_result"
    }
   ],
   "source": [
    "movies.head()"
   ]
  },
  {
   "cell_type": "code",
   "execution_count": 5,
   "id": "9372e101-b022-46ac-a897-78b43e78f03f",
   "metadata": {},
   "outputs": [
    {
     "data": {
      "text/plain": [
       "(9742, 3)"
      ]
     },
     "execution_count": 5,
     "metadata": {},
     "output_type": "execute_result"
    }
   ],
   "source": [
    "movies.shape"
   ]
  },
  {
   "cell_type": "code",
   "execution_count": 6,
   "id": "21777e7b-404c-4eb6-a446-fbc25970f894",
   "metadata": {},
   "outputs": [],
   "source": [
    "#Generos Disponíveis\n",
    "genre_labels = set()\n",
    "for s in movies['genres'].str.split('|').values:\n",
    "    genre_labels = genre_labels.union(set(s))"
   ]
  },
  {
   "cell_type": "code",
   "execution_count": 7,
   "id": "a7901f8a-b86a-4c26-bc93-e8ff1fc0c02a",
   "metadata": {},
   "outputs": [
    {
     "data": {
      "text/plain": [
       "{'(no genres listed)',\n",
       " 'Action',\n",
       " 'Adventure',\n",
       " 'Animation',\n",
       " 'Children',\n",
       " 'Comedy',\n",
       " 'Crime',\n",
       " 'Documentary',\n",
       " 'Drama',\n",
       " 'Fantasy',\n",
       " 'Film-Noir',\n",
       " 'Horror',\n",
       " 'IMAX',\n",
       " 'Musical',\n",
       " 'Mystery',\n",
       " 'Romance',\n",
       " 'Sci-Fi',\n",
       " 'Thriller',\n",
       " 'War',\n",
       " 'Western'}"
      ]
     },
     "execution_count": 7,
     "metadata": {},
     "output_type": "execute_result"
    }
   ],
   "source": [
    "genre_labels"
   ]
  },
  {
   "cell_type": "code",
   "execution_count": 8,
   "id": "9fb45821-9af8-403f-8dfc-19f8d94bc3d7",
   "metadata": {},
   "outputs": [],
   "source": [
    "#Separendo a coluna de generos e expandindo o resultado para um dataframe\n",
    "genres_series = movies['genres'].str.split('|', expand=True)\n",
    "\n",
    "#Agrupando o dataframe em uma serie\n",
    "genres_series_to_count = genres_series.stack()"
   ]
  },
  {
   "cell_type": "code",
   "execution_count": 9,
   "id": "613f3baf-fd8b-4ba7-a289-160402049a2a",
   "metadata": {},
   "outputs": [
    {
     "data": {
      "text/html": [
       "<div>\n",
       "<style scoped>\n",
       "    .dataframe tbody tr th:only-of-type {\n",
       "        vertical-align: middle;\n",
       "    }\n",
       "\n",
       "    .dataframe tbody tr th {\n",
       "        vertical-align: top;\n",
       "    }\n",
       "\n",
       "    .dataframe thead th {\n",
       "        text-align: right;\n",
       "    }\n",
       "</style>\n",
       "<table border=\"1\" class=\"dataframe\">\n",
       "  <thead>\n",
       "    <tr style=\"text-align: right;\">\n",
       "      <th></th>\n",
       "      <th>Count</th>\n",
       "    </tr>\n",
       "    <tr>\n",
       "      <th>Genre</th>\n",
       "      <th></th>\n",
       "    </tr>\n",
       "  </thead>\n",
       "  <tbody>\n",
       "    <tr>\n",
       "      <th>Drama</th>\n",
       "      <td>4361</td>\n",
       "    </tr>\n",
       "    <tr>\n",
       "      <th>Comedy</th>\n",
       "      <td>3756</td>\n",
       "    </tr>\n",
       "    <tr>\n",
       "      <th>Thriller</th>\n",
       "      <td>1894</td>\n",
       "    </tr>\n",
       "    <tr>\n",
       "      <th>Action</th>\n",
       "      <td>1828</td>\n",
       "    </tr>\n",
       "    <tr>\n",
       "      <th>Romance</th>\n",
       "      <td>1596</td>\n",
       "    </tr>\n",
       "    <tr>\n",
       "      <th>Adventure</th>\n",
       "      <td>1263</td>\n",
       "    </tr>\n",
       "    <tr>\n",
       "      <th>Crime</th>\n",
       "      <td>1199</td>\n",
       "    </tr>\n",
       "    <tr>\n",
       "      <th>Sci-Fi</th>\n",
       "      <td>980</td>\n",
       "    </tr>\n",
       "    <tr>\n",
       "      <th>Horror</th>\n",
       "      <td>978</td>\n",
       "    </tr>\n",
       "    <tr>\n",
       "      <th>Fantasy</th>\n",
       "      <td>779</td>\n",
       "    </tr>\n",
       "    <tr>\n",
       "      <th>Children</th>\n",
       "      <td>664</td>\n",
       "    </tr>\n",
       "    <tr>\n",
       "      <th>Animation</th>\n",
       "      <td>611</td>\n",
       "    </tr>\n",
       "    <tr>\n",
       "      <th>Mystery</th>\n",
       "      <td>573</td>\n",
       "    </tr>\n",
       "    <tr>\n",
       "      <th>Documentary</th>\n",
       "      <td>440</td>\n",
       "    </tr>\n",
       "    <tr>\n",
       "      <th>War</th>\n",
       "      <td>382</td>\n",
       "    </tr>\n",
       "    <tr>\n",
       "      <th>Musical</th>\n",
       "      <td>334</td>\n",
       "    </tr>\n",
       "    <tr>\n",
       "      <th>Western</th>\n",
       "      <td>167</td>\n",
       "    </tr>\n",
       "    <tr>\n",
       "      <th>IMAX</th>\n",
       "      <td>158</td>\n",
       "    </tr>\n",
       "    <tr>\n",
       "      <th>Film-Noir</th>\n",
       "      <td>87</td>\n",
       "    </tr>\n",
       "    <tr>\n",
       "      <th>(no genres listed)</th>\n",
       "      <td>34</td>\n",
       "    </tr>\n",
       "  </tbody>\n",
       "</table>\n",
       "</div>"
      ],
      "text/plain": [
       "                    Count\n",
       "Genre                    \n",
       "Drama                4361\n",
       "Comedy               3756\n",
       "Thriller             1894\n",
       "Action               1828\n",
       "Romance              1596\n",
       "Adventure            1263\n",
       "Crime                1199\n",
       "Sci-Fi                980\n",
       "Horror                978\n",
       "Fantasy               779\n",
       "Children              664\n",
       "Animation             611\n",
       "Mystery               573\n",
       "Documentary           440\n",
       "War                   382\n",
       "Musical               334\n",
       "Western               167\n",
       "IMAX                  158\n",
       "Film-Noir              87\n",
       "(no genres listed)     34"
      ]
     },
     "execution_count": 9,
     "metadata": {},
     "output_type": "execute_result"
    }
   ],
   "source": [
    "#Realizando a contragem de aparição de generos\n",
    "genres_series_to_count.value_counts()\n",
    "\n",
    "#Apresentando a contagem de categorias\n",
    "genres_count = pd.DataFrame(genres_series_to_count.value_counts(), columns=['Count'])\n",
    "genres_count.index.name = 'Genre'\n",
    "genres_count"
   ]
  },
  {
   "cell_type": "code",
   "execution_count": 10,
   "id": "265d4e02-2bf3-4fe3-bfd9-53952801c3ec",
   "metadata": {},
   "outputs": [
    {
     "data": {
      "text/plain": [
       "0       1995\n",
       "48      1994\n",
       "54      1996\n",
       "98      1976\n",
       "105     1992\n",
       "        ... \n",
       "8439    2015\n",
       "8684    2016\n",
       "8687    2017\n",
       "8693    2018\n",
       "9020    1908\n",
       "Name: release_year, Length: 107, dtype: Int64"
      ]
     },
     "execution_count": 10,
     "metadata": {},
     "output_type": "execute_result"
    }
   ],
   "source": [
    "pd.options.display.max_rows = 10\n",
    "movies['title'] = movies['title'].str.strip()\n",
    "movies['title'].str.slice(start=-5, stop=-1)\n",
    "movies['release_year'] = movies['title'].str.slice(start=-5, stop=-1)\n",
    "movies['release_year'] = movies.release_year.str.replace('\\)','', regex=True)\n",
    "movies['release_year'] = movies.release_year.str.replace('\\(','', regex=True)\n",
    "movies['release_year'] = pd.to_numeric(movies['release_year'], errors='coerce', downcast='signed').astype(pd.Int64Dtype())\n",
    "movies['release_year'].drop_duplicates()\n"
   ]
  },
  {
   "cell_type": "code",
   "execution_count": null,
   "id": "e7a36705-fefe-4c88-8c9e-4b47e663ec0f",
   "metadata": {},
   "outputs": [],
   "source": []
  },
  {
   "cell_type": "markdown",
   "id": "40a5dd2e-b684-47c4-b07c-2594b03798bb",
   "metadata": {},
   "source": [
    "#### Análise links"
   ]
  },
  {
   "cell_type": "code",
   "execution_count": 11,
   "id": "754a8429-6cb3-4448-a5dc-38edf3feca29",
   "metadata": {},
   "outputs": [
    {
     "data": {
      "text/html": [
       "<div>\n",
       "<style scoped>\n",
       "    .dataframe tbody tr th:only-of-type {\n",
       "        vertical-align: middle;\n",
       "    }\n",
       "\n",
       "    .dataframe tbody tr th {\n",
       "        vertical-align: top;\n",
       "    }\n",
       "\n",
       "    .dataframe thead th {\n",
       "        text-align: right;\n",
       "    }\n",
       "</style>\n",
       "<table border=\"1\" class=\"dataframe\">\n",
       "  <thead>\n",
       "    <tr style=\"text-align: right;\">\n",
       "      <th></th>\n",
       "      <th>movieId</th>\n",
       "      <th>imdbId</th>\n",
       "      <th>tmdbId</th>\n",
       "    </tr>\n",
       "  </thead>\n",
       "  <tbody>\n",
       "    <tr>\n",
       "      <th>0</th>\n",
       "      <td>1</td>\n",
       "      <td>114709</td>\n",
       "      <td>862.0</td>\n",
       "    </tr>\n",
       "    <tr>\n",
       "      <th>1</th>\n",
       "      <td>2</td>\n",
       "      <td>113497</td>\n",
       "      <td>8844.0</td>\n",
       "    </tr>\n",
       "    <tr>\n",
       "      <th>2</th>\n",
       "      <td>3</td>\n",
       "      <td>113228</td>\n",
       "      <td>15602.0</td>\n",
       "    </tr>\n",
       "    <tr>\n",
       "      <th>3</th>\n",
       "      <td>4</td>\n",
       "      <td>114885</td>\n",
       "      <td>31357.0</td>\n",
       "    </tr>\n",
       "    <tr>\n",
       "      <th>4</th>\n",
       "      <td>5</td>\n",
       "      <td>113041</td>\n",
       "      <td>11862.0</td>\n",
       "    </tr>\n",
       "  </tbody>\n",
       "</table>\n",
       "</div>"
      ],
      "text/plain": [
       "   movieId  imdbId   tmdbId\n",
       "0        1  114709    862.0\n",
       "1        2  113497   8844.0\n",
       "2        3  113228  15602.0\n",
       "3        4  114885  31357.0\n",
       "4        5  113041  11862.0"
      ]
     },
     "execution_count": 11,
     "metadata": {},
     "output_type": "execute_result"
    }
   ],
   "source": [
    "links.head()"
   ]
  },
  {
   "cell_type": "code",
   "execution_count": 12,
   "id": "416e9278-301f-4e41-a4e9-46311fc4c3fb",
   "metadata": {},
   "outputs": [
    {
     "data": {
      "text/plain": [
       "(9742, 3)"
      ]
     },
     "execution_count": 12,
     "metadata": {},
     "output_type": "execute_result"
    }
   ],
   "source": [
    "links.shape"
   ]
  },
  {
   "cell_type": "code",
   "execution_count": 13,
   "id": "ca31d1b0-8adc-4c94-8e90-dc5a4edadd74",
   "metadata": {},
   "outputs": [
    {
     "name": "stdout",
     "output_type": "stream",
     "text": [
      "<class 'pandas.core.frame.DataFrame'>\n",
      "RangeIndex: 9742 entries, 0 to 9741\n",
      "Data columns (total 3 columns):\n",
      " #   Column   Non-Null Count  Dtype  \n",
      "---  ------   --------------  -----  \n",
      " 0   movieId  9742 non-null   int64  \n",
      " 1   imdbId   9742 non-null   int64  \n",
      " 2   tmdbId   9734 non-null   float64\n",
      "dtypes: float64(1), int64(2)\n",
      "memory usage: 228.5 KB\n"
     ]
    }
   ],
   "source": [
    "links.info()"
   ]
  },
  {
   "cell_type": "markdown",
   "id": "b5a067ae-e50e-4461-a97b-07a3114316a4",
   "metadata": {},
   "source": [
    "## Análise ratings"
   ]
  },
  {
   "cell_type": "code",
   "execution_count": 14,
   "id": "4729a604-215d-4c73-9976-60019bfddfea",
   "metadata": {},
   "outputs": [
    {
     "data": {
      "text/html": [
       "<div>\n",
       "<style scoped>\n",
       "    .dataframe tbody tr th:only-of-type {\n",
       "        vertical-align: middle;\n",
       "    }\n",
       "\n",
       "    .dataframe tbody tr th {\n",
       "        vertical-align: top;\n",
       "    }\n",
       "\n",
       "    .dataframe thead th {\n",
       "        text-align: right;\n",
       "    }\n",
       "</style>\n",
       "<table border=\"1\" class=\"dataframe\">\n",
       "  <thead>\n",
       "    <tr style=\"text-align: right;\">\n",
       "      <th></th>\n",
       "      <th>userId</th>\n",
       "      <th>movieId</th>\n",
       "      <th>rating</th>\n",
       "      <th>timestamp</th>\n",
       "    </tr>\n",
       "  </thead>\n",
       "  <tbody>\n",
       "    <tr>\n",
       "      <th>0</th>\n",
       "      <td>1</td>\n",
       "      <td>1</td>\n",
       "      <td>4.0</td>\n",
       "      <td>964982703</td>\n",
       "    </tr>\n",
       "    <tr>\n",
       "      <th>1</th>\n",
       "      <td>1</td>\n",
       "      <td>3</td>\n",
       "      <td>4.0</td>\n",
       "      <td>964981247</td>\n",
       "    </tr>\n",
       "    <tr>\n",
       "      <th>2</th>\n",
       "      <td>1</td>\n",
       "      <td>6</td>\n",
       "      <td>4.0</td>\n",
       "      <td>964982224</td>\n",
       "    </tr>\n",
       "    <tr>\n",
       "      <th>3</th>\n",
       "      <td>1</td>\n",
       "      <td>47</td>\n",
       "      <td>5.0</td>\n",
       "      <td>964983815</td>\n",
       "    </tr>\n",
       "    <tr>\n",
       "      <th>4</th>\n",
       "      <td>1</td>\n",
       "      <td>50</td>\n",
       "      <td>5.0</td>\n",
       "      <td>964982931</td>\n",
       "    </tr>\n",
       "  </tbody>\n",
       "</table>\n",
       "</div>"
      ],
      "text/plain": [
       "   userId  movieId  rating  timestamp\n",
       "0       1        1     4.0  964982703\n",
       "1       1        3     4.0  964981247\n",
       "2       1        6     4.0  964982224\n",
       "3       1       47     5.0  964983815\n",
       "4       1       50     5.0  964982931"
      ]
     },
     "execution_count": 14,
     "metadata": {},
     "output_type": "execute_result"
    }
   ],
   "source": [
    "ratings.head()"
   ]
  },
  {
   "cell_type": "code",
   "execution_count": 15,
   "id": "bdd53be6-f4b8-4e93-9e2e-55eb6702722a",
   "metadata": {},
   "outputs": [
    {
     "data": {
      "text/plain": [
       "(100836, 4)"
      ]
     },
     "execution_count": 15,
     "metadata": {},
     "output_type": "execute_result"
    }
   ],
   "source": [
    "ratings.shape"
   ]
  },
  {
   "cell_type": "code",
   "execution_count": 16,
   "id": "6a727329-ba97-41f9-ab3b-740cacb9fb5f",
   "metadata": {},
   "outputs": [
    {
     "name": "stdout",
     "output_type": "stream",
     "text": [
      "<class 'pandas.core.frame.DataFrame'>\n",
      "RangeIndex: 100836 entries, 0 to 100835\n",
      "Data columns (total 4 columns):\n",
      " #   Column     Non-Null Count   Dtype  \n",
      "---  ------     --------------   -----  \n",
      " 0   userId     100836 non-null  int64  \n",
      " 1   movieId    100836 non-null  int64  \n",
      " 2   rating     100836 non-null  float64\n",
      " 3   timestamp  100836 non-null  int64  \n",
      "dtypes: float64(1), int64(3)\n",
      "memory usage: 3.1 MB\n"
     ]
    }
   ],
   "source": [
    "ratings.info()"
   ]
  },
  {
   "cell_type": "code",
   "execution_count": 17,
   "id": "6f866f30-9259-42ed-a702-01ce371c011d",
   "metadata": {},
   "outputs": [
    {
     "data": {
      "text/plain": [
       "<AxesSubplot:xlabel='rating', ylabel='Count'>"
      ]
     },
     "execution_count": 17,
     "metadata": {},
     "output_type": "execute_result"
    },
    {
     "data": {
      "image/png": "[encoded data removed]",
      "text/plain": [
       "<Figure size 432x288 with 1 Axes>"
      ]
     },
     "metadata": {
      "needs_background": "light"
     },
     "output_type": "display_data"
    }
   ],
   "source": [
    "sns.histplot(ratings, x=ratings['rating'], kde=True)"
   ]
  },
  {
   "cell_type": "code",
   "execution_count": 18,
   "id": "3bc8fec5-9de7-437b-9bd2-42fd613a7630",
   "metadata": {},
   "outputs": [
    {
     "data": {
      "text/plain": [
       "<AxesSubplot:>"
      ]
     },
     "execution_count": 18,
     "metadata": {},
     "output_type": "execute_result"
    },
    {
     "data": {
      "image/png": "[encoded data removed]",
      "text/plain": [
       "<Figure size 432x288 with 1 Axes>"
      ]
     },
     "metadata": {
      "needs_background": "light"
     },
     "output_type": "display_data"
    }
   ],
   "source": [
    "ratings_data  = ratings['rating'] \n",
    "sns.boxplot(data=ratings_data)"
   ]
  },
  {
   "cell_type": "markdown",
   "id": "2629195d-8010-482e-9a08-bdca37e73a60",
   "metadata": {},
   "source": [
    "## Análise tags"
   ]
  },
  {
   "cell_type": "code",
   "execution_count": 19,
   "id": "93a26219-3f41-430e-9880-1068e402e711",
   "metadata": {},
   "outputs": [
    {
     "data": {
      "text/html": [
       "<div>\n",
       "<style scoped>\n",
       "    .dataframe tbody tr th:only-of-type {\n",
       "        vertical-align: middle;\n",
       "    }\n",
       "\n",
       "    .dataframe tbody tr th {\n",
       "        vertical-align: top;\n",
       "    }\n",
       "\n",
       "    .dataframe thead th {\n",
       "        text-align: right;\n",
       "    }\n",
       "</style>\n",
       "<table border=\"1\" class=\"dataframe\">\n",
       "  <thead>\n",
       "    <tr style=\"text-align: right;\">\n",
       "      <th></th>\n",
       "      <th>userId</th>\n",
       "      <th>movieId</th>\n",
       "      <th>tag</th>\n",
       "      <th>timestamp</th>\n",
       "    </tr>\n",
       "  </thead>\n",
       "  <tbody>\n",
       "    <tr>\n",
       "      <th>0</th>\n",
       "      <td>2</td>\n",
       "      <td>60756</td>\n",
       "      <td>funny</td>\n",
       "      <td>1445714994</td>\n",
       "    </tr>\n",
       "    <tr>\n",
       "      <th>1</th>\n",
       "      <td>2</td>\n",
       "      <td>60756</td>\n",
       "      <td>Highly quotable</td>\n",
       "      <td>1445714996</td>\n",
       "    </tr>\n",
       "    <tr>\n",
       "      <th>2</th>\n",
       "      <td>2</td>\n",
       "      <td>60756</td>\n",
       "      <td>will ferrell</td>\n",
       "      <td>1445714992</td>\n",
       "    </tr>\n",
       "    <tr>\n",
       "      <th>3</th>\n",
       "      <td>2</td>\n",
       "      <td>89774</td>\n",
       "      <td>Boxing story</td>\n",
       "      <td>1445715207</td>\n",
       "    </tr>\n",
       "    <tr>\n",
       "      <th>4</th>\n",
       "      <td>2</td>\n",
       "      <td>89774</td>\n",
       "      <td>MMA</td>\n",
       "      <td>1445715200</td>\n",
       "    </tr>\n",
       "  </tbody>\n",
       "</table>\n",
       "</div>"
      ],
      "text/plain": [
       "   userId  movieId              tag   timestamp\n",
       "0       2    60756            funny  1445714994\n",
       "1       2    60756  Highly quotable  1445714996\n",
       "2       2    60756     will ferrell  1445714992\n",
       "3       2    89774     Boxing story  1445715207\n",
       "4       2    89774              MMA  1445715200"
      ]
     },
     "execution_count": 19,
     "metadata": {},
     "output_type": "execute_result"
    }
   ],
   "source": [
    "tags.head()"
   ]
  },
  {
   "cell_type": "code",
   "execution_count": 20,
   "id": "fc512c43-bc06-418b-977c-a792ca6d70ab",
   "metadata": {},
   "outputs": [
    {
     "data": {
      "text/plain": [
       "(3683, 4)"
      ]
     },
     "execution_count": 20,
     "metadata": {},
     "output_type": "execute_result"
    }
   ],
   "source": [
    "tags.shape"
   ]
  },
  {
   "cell_type": "code",
   "execution_count": 21,
   "id": "4de902e7-f37c-48d6-9019-ff3c43fe5847",
   "metadata": {},
   "outputs": [
    {
     "data": {
      "text/plain": [
       "0                  funny\n",
       "1        highly quotable\n",
       "2           will ferrell\n",
       "3           boxing story\n",
       "4                    mma\n",
       "              ...       \n",
       "3676                70mm\n",
       "3678           for katie\n",
       "3679             austere\n",
       "3680              gun fu\n",
       "3681    heroic bloodshed\n",
       "Name: tag, Length: 1475, dtype: object"
      ]
     },
     "execution_count": 21,
     "metadata": {},
     "output_type": "execute_result"
    }
   ],
   "source": [
    "tags['tag'].str.lower().drop_duplicates()"
   ]
  },
  {
   "cell_type": "code",
   "execution_count": 22,
   "id": "57222799-f793-4342-9e50-e98a219de151",
   "metadata": {},
   "outputs": [
    {
     "name": "stdout",
     "output_type": "stream",
     "text": [
      "<class 'pandas.core.frame.DataFrame'>\n",
      "RangeIndex: 3683 entries, 0 to 3682\n",
      "Data columns (total 4 columns):\n",
      " #   Column     Non-Null Count  Dtype \n",
      "---  ------     --------------  ----- \n",
      " 0   userId     3683 non-null   int64 \n",
      " 1   movieId    3683 non-null   int64 \n",
      " 2   tag        3683 non-null   object\n",
      " 3   timestamp  3683 non-null   int64 \n",
      "dtypes: int64(3), object(1)\n",
      "memory usage: 115.2+ KB\n"
     ]
    }
   ],
   "source": [
    "tags.info()"
   ]
  },
  {
   "cell_type": "code",
   "execution_count": 23,
   "id": "b44ac542-70f2-4251-bea3-ff120837b19e",
   "metadata": {},
   "outputs": [],
   "source": [
    "# tags['userId'].drop_duplicates()\n",
    "# plt.figure(figsize=(15, 10))\n",
    "# sns.histplot(tags, x=tags['movieId'])"
   ]
  },
  {
   "cell_type": "markdown",
   "id": "dc07cb0e-c435-4f90-95e9-39ed9bc3694d",
   "metadata": {},
   "source": [
    "# Fundindo datasets"
   ]
  },
  {
   "cell_type": "code",
   "execution_count": 24,
   "id": "987fc799-6904-419b-99a6-fcfa8bd53a8f",
   "metadata": {},
   "outputs": [],
   "source": [
    "movies_ratings = movies.merge(ratings,on='movieId')"
   ]
  },
  {
   "cell_type": "code",
   "execution_count": 25,
   "id": "3a553396-bb6e-4b6a-a4d2-35edfd2ff57b",
   "metadata": {},
   "outputs": [
    {
     "name": "stdout",
     "output_type": "stream",
     "text": [
      "<class 'pandas.core.frame.DataFrame'>\n",
      "Int64Index: 100836 entries, 0 to 100835\n",
      "Data columns (total 7 columns):\n",
      " #   Column        Non-Null Count   Dtype  \n",
      "---  ------        --------------   -----  \n",
      " 0   movieId       100836 non-null  int64  \n",
      " 1   title         100836 non-null  object \n",
      " 2   genres        100836 non-null  object \n",
      " 3   release_year  100819 non-null  Int64  \n",
      " 4   userId        100836 non-null  int64  \n",
      " 5   rating        100836 non-null  float64\n",
      " 6   timestamp     100836 non-null  int64  \n",
      "dtypes: Int64(1), float64(1), int64(3), object(2)\n",
      "memory usage: 6.3+ MB\n"
     ]
    }
   ],
   "source": [
    "movies_ratings.info()"
   ]
  },
  {
   "cell_type": "code",
   "execution_count": 26,
   "id": "fa272d9e-6448-46f4-aa7d-61dd806a640c",
   "metadata": {},
   "outputs": [
    {
     "data": {
      "text/plain": [
       "count    100836.000000\n",
       "mean          3.501557\n",
       "std           1.042529\n",
       "min           0.500000\n",
       "25%           3.000000\n",
       "50%           3.500000\n",
       "75%           4.000000\n",
       "max           5.000000\n",
       "Name: rating, dtype: float64"
      ]
     },
     "execution_count": 26,
     "metadata": {},
     "output_type": "execute_result"
    }
   ],
   "source": [
    "movies_ratings['rating'].describe()"
   ]
  },
  {
   "cell_type": "code",
   "execution_count": 27,
   "id": "13a98328-51ba-4f51-a8cf-62c3e15916c7",
   "metadata": {},
   "outputs": [],
   "source": [
    "movies_rating_clear = movies_ratings[movies_ratings['release_year'].notna()]\n",
    "medias_por_ano = movies_rating_clear.groupby('release_year').mean().rating"
   ]
  },
  {
   "cell_type": "markdown",
   "id": "47e9ad66-4c3d-4221-91c5-1b35c5a63ad5",
   "metadata": {},
   "source": [
    "## Analisando correlação\n",
    "Analisando relação entre média e ano"
   ]
  },
  {
   "cell_type": "code",
   "execution_count": 28,
   "id": "391ea98c-f546-4fb6-ac25-47170102a691",
   "metadata": {},
   "outputs": [
    {
     "data": {
      "text/html": [
       "<div>\n",
       "<style scoped>\n",
       "    .dataframe tbody tr th:only-of-type {\n",
       "        vertical-align: middle;\n",
       "    }\n",
       "\n",
       "    .dataframe tbody tr th {\n",
       "        vertical-align: top;\n",
       "    }\n",
       "\n",
       "    .dataframe thead th {\n",
       "        text-align: right;\n",
       "    }\n",
       "</style>\n",
       "<table border=\"1\" class=\"dataframe\">\n",
       "  <thead>\n",
       "    <tr style=\"text-align: right;\">\n",
       "      <th></th>\n",
       "      <th>release_year</th>\n",
       "      <th>rating</th>\n",
       "    </tr>\n",
       "  </thead>\n",
       "  <tbody>\n",
       "    <tr>\n",
       "      <th>release_year</th>\n",
       "      <td>1.000000</td>\n",
       "      <td>-0.084033</td>\n",
       "    </tr>\n",
       "    <tr>\n",
       "      <th>rating</th>\n",
       "      <td>-0.084033</td>\n",
       "      <td>1.000000</td>\n",
       "    </tr>\n",
       "  </tbody>\n",
       "</table>\n",
       "</div>"
      ],
      "text/plain": [
       "              release_year    rating\n",
       "release_year      1.000000 -0.084033\n",
       "rating           -0.084033  1.000000"
      ]
     },
     "execution_count": 28,
     "metadata": {},
     "output_type": "execute_result"
    }
   ],
   "source": [
    "correlacao_media_ano = movies_rating_clear[['release_year', 'rating']].corr()\n",
    "correlacao_media_ano"
   ]
  },
  {
   "cell_type": "code",
   "execution_count": 29,
   "id": "ee652303-bf82-4f2d-9d70-d7d509557d3e",
   "metadata": {},
   "outputs": [
    {
     "name": "stdout",
     "output_type": "stream",
     "text": [
      "O coeficiente de correlação entre o ano de lançamento dos filmes e suas avaliações é de -0.08403310469227955\n"
     ]
    }
   ],
   "source": [
    "print(f\"O coeficiente de correlação entre o ano de lançamento dos filmes e suas avaliações é de {correlacao_media_ano.loc['release_year', 'rating']}\")"
   ]
  },
  {
   "cell_type": "code",
   "execution_count": 30,
   "id": "ac5a02be-1246-4522-8639-576b80db2993",
   "metadata": {},
   "outputs": [
    {
     "data": {
      "text/plain": [
       "<AxesSubplot:xlabel='release_year', ylabel='rating'>"
      ]
     },
     "execution_count": 30,
     "metadata": {},
     "output_type": "execute_result"
    },
    {
     "data": {
      "image/png": "[encoded data removed]",
      "text/plain": [
       "<Figure size 1440x1080 with 1 Axes>"
      ]
     },
     "metadata": {
      "needs_background": "light"
     },
     "output_type": "display_data"
    }
   ],
   "source": [
    "plt.figure(figsize=(20, 15))\n",
    "sns.scatterplot(data=movies_rating_clear, y='rating', x='release_year')"
   ]
  },
  {
   "cell_type": "code",
   "execution_count": 31,
   "id": "2a00854f-5b02-450c-b4ed-33a08bba31cb",
   "metadata": {},
   "outputs": [
    {
     "data": {
      "text/plain": [
       "<AxesSubplot:title={'center':'Evolução das média de acordo com o ano de lançamento'}, xlabel='Ano de lançamento', ylabel='Média'>"
      ]
     },
     "execution_count": 31,
     "metadata": {},
     "output_type": "execute_result"
    },
    {
     "data": {
      "image/png": "[encoded data removed]",
      "text/plain": [
       "<Figure size 1080x720 with 1 Axes>"
      ]
     },
     "metadata": {
      "needs_background": "light"
     },
     "output_type": "display_data"
    }
   ],
   "source": [
    "plt.figure(figsize=(15, 10))\n",
    "grafico_evolucao_media = sns.lineplot(x=medias_por_ano.index, y=medias_por_ano.values, data=medias_por_ano)\n",
    "grafico_evolucao_media.set(ylabel=\"Média\", xlabel=\"Ano de lançamento\", title=\"Evolução das média de acordo com o ano de lançamento\")\n",
    "grafico_evolucao_media"
   ]
  },
  {
   "cell_type": "markdown",
   "id": "a8c66aef-ad43-4630-8077-14037376ad36",
   "metadata": {},
   "source": [
    "## Categorias mais rotuladas"
   ]
  },
  {
   "cell_type": "code",
   "execution_count": 32,
   "id": "4e75890f-63c3-4315-ae4b-23741a34c4b9",
   "metadata": {},
   "outputs": [],
   "source": [
    "#Realizando a contragem de aparição de generos\n",
    "genres_series_to_count.value_counts()\n",
    "\n",
    "#Apresentando a contagem de categorias\n",
    "pd.options.display.max_rows = 20\n",
    "genres_count = pd.DataFrame(genres_series_to_count.value_counts(), columns=['Count'])\n",
    "genres_count.reset_index(level=0, inplace=True)\n",
    "genres_count.columns= ['genre', 'count']"
   ]
  },
  {
   "cell_type": "code",
   "execution_count": 33,
   "id": "a5e40a22-37e1-4c53-992d-f351eabc78b4",
   "metadata": {},
   "outputs": [
    {
     "data": {
      "text/plain": [
       "[Text(0.5, 0, 'Contagem'),\n",
       " Text(0, 0.5, 'Genero'),\n",
       " Text(0.5, 1.0, 'Frequencia de rotulação')]"
      ]
     },
     "execution_count": 33,
     "metadata": {},
     "output_type": "execute_result"
    },
    {
     "data": {
      "image/png": "[encoded data removed]",
      "text/plain": [
       "<Figure size 1080x720 with 1 Axes>"
      ]
     },
     "metadata": {
      "needs_background": "light"
     },
     "output_type": "display_data"
    }
   ],
   "source": [
    "plt.figure(figsize=(15, 10))\n",
    "freqence_genre = sns.barplot(data=genres_count, y=genres_count['genre'], x=genres_count['count'])\n",
    "freqence_genre.set(xlabel=\"Contagem\", ylabel=\"Genero\", title=\"Frequencia de rotulação\")\n",
    "\n"
   ]
  },
  {
   "cell_type": "markdown",
   "id": "cdf1268d-bf53-4352-8715-e29f686e3d1f",
   "metadata": {},
   "source": [
    "## Media de avaliação das categorias\n",
    "\n",
    "Qual a média das avaliações das categorias"
   ]
  },
  {
   "cell_type": "code",
   "execution_count": 34,
   "id": "81775ce3-2306-4e53-9376-0b3320f74215",
   "metadata": {},
   "outputs": [
    {
     "data": {
      "text/html": [
       "<div>\n",
       "<style scoped>\n",
       "    .dataframe tbody tr th:only-of-type {\n",
       "        vertical-align: middle;\n",
       "    }\n",
       "\n",
       "    .dataframe tbody tr th {\n",
       "        vertical-align: top;\n",
       "    }\n",
       "\n",
       "    .dataframe thead th {\n",
       "        text-align: right;\n",
       "    }\n",
       "</style>\n",
       "<table border=\"1\" class=\"dataframe\">\n",
       "  <thead>\n",
       "    <tr style=\"text-align: right;\">\n",
       "      <th></th>\n",
       "      <th>movieId</th>\n",
       "      <th>release_year</th>\n",
       "      <th>userId</th>\n",
       "      <th>rating</th>\n",
       "      <th>timestamp</th>\n",
       "    </tr>\n",
       "    <tr>\n",
       "      <th>title</th>\n",
       "      <th></th>\n",
       "      <th></th>\n",
       "      <th></th>\n",
       "      <th></th>\n",
       "      <th></th>\n",
       "    </tr>\n",
       "  </thead>\n",
       "  <tbody>\n",
       "    <tr>\n",
       "      <th>'71 (2014)</th>\n",
       "      <td>117867.0</td>\n",
       "      <td>2014.0</td>\n",
       "      <td>610.000000</td>\n",
       "      <td>4.000000</td>\n",
       "      <td>1.493850e+09</td>\n",
       "    </tr>\n",
       "    <tr>\n",
       "      <th>'Hellboy': The Seeds of Creation (2004)</th>\n",
       "      <td>97757.0</td>\n",
       "      <td>2004.0</td>\n",
       "      <td>332.000000</td>\n",
       "      <td>4.000000</td>\n",
       "      <td>1.352671e+09</td>\n",
       "    </tr>\n",
       "    <tr>\n",
       "      <th>'Round Midnight (1986)</th>\n",
       "      <td>26564.0</td>\n",
       "      <td>1986.0</td>\n",
       "      <td>354.500000</td>\n",
       "      <td>3.500000</td>\n",
       "      <td>1.346507e+09</td>\n",
       "    </tr>\n",
       "    <tr>\n",
       "      <th>'Salem's Lot (2004)</th>\n",
       "      <td>27751.0</td>\n",
       "      <td>2004.0</td>\n",
       "      <td>345.000000</td>\n",
       "      <td>5.000000</td>\n",
       "      <td>1.342827e+09</td>\n",
       "    </tr>\n",
       "    <tr>\n",
       "      <th>'Til There Was You (1997)</th>\n",
       "      <td>779.0</td>\n",
       "      <td>1997.0</td>\n",
       "      <td>229.000000</td>\n",
       "      <td>4.000000</td>\n",
       "      <td>1.161440e+09</td>\n",
       "    </tr>\n",
       "    <tr>\n",
       "      <th>...</th>\n",
       "      <td>...</td>\n",
       "      <td>...</td>\n",
       "      <td>...</td>\n",
       "      <td>...</td>\n",
       "      <td>...</td>\n",
       "    </tr>\n",
       "    <tr>\n",
       "      <th>eXistenZ (1999)</th>\n",
       "      <td>2600.0</td>\n",
       "      <td>1999.0</td>\n",
       "      <td>389.954545</td>\n",
       "      <td>3.863636</td>\n",
       "      <td>1.142416e+09</td>\n",
       "    </tr>\n",
       "    <tr>\n",
       "      <th>xXx (2002)</th>\n",
       "      <td>5507.0</td>\n",
       "      <td>2002.0</td>\n",
       "      <td>272.916667</td>\n",
       "      <td>2.770833</td>\n",
       "      <td>1.211263e+09</td>\n",
       "    </tr>\n",
       "    <tr>\n",
       "      <th>xXx: State of the Union (2005)</th>\n",
       "      <td>33158.0</td>\n",
       "      <td>2005.0</td>\n",
       "      <td>386.000000</td>\n",
       "      <td>2.000000</td>\n",
       "      <td>1.342892e+09</td>\n",
       "    </tr>\n",
       "    <tr>\n",
       "      <th>¡Three Amigos! (1986)</th>\n",
       "      <td>2478.0</td>\n",
       "      <td>1986.0</td>\n",
       "      <td>279.807692</td>\n",
       "      <td>3.134615</td>\n",
       "      <td>1.133275e+09</td>\n",
       "    </tr>\n",
       "    <tr>\n",
       "      <th>À nous la liberté (Freedom for Us) (1931)</th>\n",
       "      <td>5560.0</td>\n",
       "      <td>1931.0</td>\n",
       "      <td>527.000000</td>\n",
       "      <td>1.000000</td>\n",
       "      <td>1.033174e+09</td>\n",
       "    </tr>\n",
       "  </tbody>\n",
       "</table>\n",
       "<p>9707 rows × 5 columns</p>\n",
       "</div>"
      ],
      "text/plain": [
       "                                            movieId  release_year      userId  \\\n",
       "title                                                                           \n",
       "'71 (2014)                                 117867.0        2014.0  610.000000   \n",
       "'Hellboy': The Seeds of Creation (2004)     97757.0        2004.0  332.000000   \n",
       "'Round Midnight (1986)                      26564.0        1986.0  354.500000   \n",
       "'Salem's Lot (2004)                         27751.0        2004.0  345.000000   \n",
       "'Til There Was You (1997)                     779.0        1997.0  229.000000   \n",
       "...                                             ...           ...         ...   \n",
       "eXistenZ (1999)                              2600.0        1999.0  389.954545   \n",
       "xXx (2002)                                   5507.0        2002.0  272.916667   \n",
       "xXx: State of the Union (2005)              33158.0        2005.0  386.000000   \n",
       "¡Three Amigos! (1986)                        2478.0        1986.0  279.807692   \n",
       "À nous la liberté (Freedom for Us) (1931)    5560.0        1931.0  527.000000   \n",
       "\n",
       "                                             rating     timestamp  \n",
       "title                                                              \n",
       "'71 (2014)                                 4.000000  1.493850e+09  \n",
       "'Hellboy': The Seeds of Creation (2004)    4.000000  1.352671e+09  \n",
       "'Round Midnight (1986)                     3.500000  1.346507e+09  \n",
       "'Salem's Lot (2004)                        5.000000  1.342827e+09  \n",
       "'Til There Was You (1997)                  4.000000  1.161440e+09  \n",
       "...                                             ...           ...  \n",
       "eXistenZ (1999)                            3.863636  1.142416e+09  \n",
       "xXx (2002)                                 2.770833  1.211263e+09  \n",
       "xXx: State of the Union (2005)             2.000000  1.342892e+09  \n",
       "¡Three Amigos! (1986)                      3.134615  1.133275e+09  \n",
       "À nous la liberté (Freedom for Us) (1931)  1.000000  1.033174e+09  \n",
       "\n",
       "[9707 rows x 5 columns]"
      ]
     },
     "execution_count": 34,
     "metadata": {},
     "output_type": "execute_result"
    }
   ],
   "source": [
    "movies_rating_clear.groupby('title').mean()"
   ]
  },
  {
   "cell_type": "markdown",
   "id": "c96d6a05-b4f2-4d7b-8136-d39d77d04fb9",
   "metadata": {},
   "source": [
    "## A média de notas significa grande número de avaliações?\n",
    "\n",
    "As médias siginificam que os filmes foram assistidos e avaliados?"
   ]
  },
  {
   "cell_type": "code",
   "execution_count": 35,
   "id": "934f8db3-c9c2-4e63-b960-0458839756fe",
   "metadata": {},
   "outputs": [],
   "source": [
    "movie_mean = movies_rating_clear.groupby('movieId')['rating'].mean()"
   ]
  },
  {
   "cell_type": "code",
   "execution_count": 36,
   "id": "8d89db79-b978-4215-83f2-0d36b4f489b4",
   "metadata": {},
   "outputs": [],
   "source": [
    "movie_evaluation = movies_rating_clear.groupby('movieId')['rating'].count()"
   ]
  },
  {
   "cell_type": "code",
   "execution_count": 37,
   "id": "50c65ad4-03a4-4508-8a5b-e84909b40dca",
   "metadata": {},
   "outputs": [],
   "source": [
    "movie_mean_evaluation = pd.DataFrame({\"Média de Notas\": movie_mean, \"Número de Avaliações\": movie_evaluation})"
   ]
  },
  {
   "cell_type": "code",
   "execution_count": 38,
   "id": "9dc2a30f-0a12-4289-a2b0-5c312eb11642",
   "metadata": {},
   "outputs": [
    {
     "data": {
      "text/html": [
       "<div>\n",
       "<style scoped>\n",
       "    .dataframe tbody tr th:only-of-type {\n",
       "        vertical-align: middle;\n",
       "    }\n",
       "\n",
       "    .dataframe tbody tr th {\n",
       "        vertical-align: top;\n",
       "    }\n",
       "\n",
       "    .dataframe thead th {\n",
       "        text-align: right;\n",
       "    }\n",
       "</style>\n",
       "<table border=\"1\" class=\"dataframe\">\n",
       "  <thead>\n",
       "    <tr style=\"text-align: right;\">\n",
       "      <th></th>\n",
       "      <th>Média de Notas</th>\n",
       "      <th>Número de Avaliações</th>\n",
       "    </tr>\n",
       "    <tr>\n",
       "      <th>movieId</th>\n",
       "      <th></th>\n",
       "      <th></th>\n",
       "    </tr>\n",
       "  </thead>\n",
       "  <tbody>\n",
       "    <tr>\n",
       "      <th>356</th>\n",
       "      <td>4.164134</td>\n",
       "      <td>329</td>\n",
       "    </tr>\n",
       "    <tr>\n",
       "      <th>318</th>\n",
       "      <td>4.429022</td>\n",
       "      <td>317</td>\n",
       "    </tr>\n",
       "    <tr>\n",
       "      <th>296</th>\n",
       "      <td>4.197068</td>\n",
       "      <td>307</td>\n",
       "    </tr>\n",
       "    <tr>\n",
       "      <th>593</th>\n",
       "      <td>4.161290</td>\n",
       "      <td>279</td>\n",
       "    </tr>\n",
       "    <tr>\n",
       "      <th>2571</th>\n",
       "      <td>4.192446</td>\n",
       "      <td>278</td>\n",
       "    </tr>\n",
       "    <tr>\n",
       "      <th>...</th>\n",
       "      <td>...</td>\n",
       "      <td>...</td>\n",
       "    </tr>\n",
       "    <tr>\n",
       "      <th>71268</th>\n",
       "      <td>5.000000</td>\n",
       "      <td>1</td>\n",
       "    </tr>\n",
       "    <tr>\n",
       "      <th>6329</th>\n",
       "      <td>3.000000</td>\n",
       "      <td>1</td>\n",
       "    </tr>\n",
       "    <tr>\n",
       "      <th>71302</th>\n",
       "      <td>4.500000</td>\n",
       "      <td>1</td>\n",
       "    </tr>\n",
       "    <tr>\n",
       "      <th>71327</th>\n",
       "      <td>3.500000</td>\n",
       "      <td>1</td>\n",
       "    </tr>\n",
       "    <tr>\n",
       "      <th>193609</th>\n",
       "      <td>4.000000</td>\n",
       "      <td>1</td>\n",
       "    </tr>\n",
       "  </tbody>\n",
       "</table>\n",
       "<p>9712 rows × 2 columns</p>\n",
       "</div>"
      ],
      "text/plain": [
       "         Média de Notas  Número de Avaliações\n",
       "movieId                                      \n",
       "356            4.164134                   329\n",
       "318            4.429022                   317\n",
       "296            4.197068                   307\n",
       "593            4.161290                   279\n",
       "2571           4.192446                   278\n",
       "...                 ...                   ...\n",
       "71268          5.000000                     1\n",
       "6329           3.000000                     1\n",
       "71302          4.500000                     1\n",
       "71327          3.500000                     1\n",
       "193609         4.000000                     1\n",
       "\n",
       "[9712 rows x 2 columns]"
      ]
     },
     "execution_count": 38,
     "metadata": {},
     "output_type": "execute_result"
    }
   ],
   "source": [
    "movie_mean_evaluation.sort_values(by='Número de Avaliações', ascending=False)"
   ]
  },
  {
   "cell_type": "markdown",
   "id": "66928380-7ad1-4b1a-a851-6aaa999779f7",
   "metadata": {},
   "source": [
    "## As piores notas são de filmes muito avaliados?"
   ]
  },
  {
   "cell_type": "code",
   "execution_count": 39,
   "id": "4c7499be-5a63-4e94-be97-65a0c2cbfc2a",
   "metadata": {},
   "outputs": [
    {
     "data": {
      "text/html": [
       "<div>\n",
       "<style scoped>\n",
       "    .dataframe tbody tr th:only-of-type {\n",
       "        vertical-align: middle;\n",
       "    }\n",
       "\n",
       "    .dataframe tbody tr th {\n",
       "        vertical-align: top;\n",
       "    }\n",
       "\n",
       "    .dataframe thead th {\n",
       "        text-align: right;\n",
       "    }\n",
       "</style>\n",
       "<table border=\"1\" class=\"dataframe\">\n",
       "  <thead>\n",
       "    <tr style=\"text-align: right;\">\n",
       "      <th></th>\n",
       "      <th>Média de Notas</th>\n",
       "      <th>Número de Avaliações</th>\n",
       "    </tr>\n",
       "    <tr>\n",
       "      <th>movieId</th>\n",
       "      <th></th>\n",
       "      <th></th>\n",
       "    </tr>\n",
       "  </thead>\n",
       "  <tbody>\n",
       "    <tr>\n",
       "      <th>5356</th>\n",
       "      <td>0.5</td>\n",
       "      <td>1</td>\n",
       "    </tr>\n",
       "    <tr>\n",
       "      <th>8494</th>\n",
       "      <td>0.5</td>\n",
       "      <td>1</td>\n",
       "    </tr>\n",
       "    <tr>\n",
       "      <th>5105</th>\n",
       "      <td>0.5</td>\n",
       "      <td>1</td>\n",
       "    </tr>\n",
       "    <tr>\n",
       "      <th>8632</th>\n",
       "      <td>0.5</td>\n",
       "      <td>1</td>\n",
       "    </tr>\n",
       "    <tr>\n",
       "      <th>144352</th>\n",
       "      <td>0.5</td>\n",
       "      <td>1</td>\n",
       "    </tr>\n",
       "    <tr>\n",
       "      <th>...</th>\n",
       "      <td>...</td>\n",
       "      <td>...</td>\n",
       "    </tr>\n",
       "    <tr>\n",
       "      <th>170777</th>\n",
       "      <td>5.0</td>\n",
       "      <td>1</td>\n",
       "    </tr>\n",
       "    <tr>\n",
       "      <th>4402</th>\n",
       "      <td>5.0</td>\n",
       "      <td>1</td>\n",
       "    </tr>\n",
       "    <tr>\n",
       "      <th>96430</th>\n",
       "      <td>5.0</td>\n",
       "      <td>1</td>\n",
       "    </tr>\n",
       "    <tr>\n",
       "      <th>113829</th>\n",
       "      <td>5.0</td>\n",
       "      <td>1</td>\n",
       "    </tr>\n",
       "    <tr>\n",
       "      <th>6192</th>\n",
       "      <td>5.0</td>\n",
       "      <td>1</td>\n",
       "    </tr>\n",
       "  </tbody>\n",
       "</table>\n",
       "<p>9712 rows × 2 columns</p>\n",
       "</div>"
      ],
      "text/plain": [
       "         Média de Notas  Número de Avaliações\n",
       "movieId                                      \n",
       "5356                0.5                     1\n",
       "8494                0.5                     1\n",
       "5105                0.5                     1\n",
       "8632                0.5                     1\n",
       "144352              0.5                     1\n",
       "...                 ...                   ...\n",
       "170777              5.0                     1\n",
       "4402                5.0                     1\n",
       "96430               5.0                     1\n",
       "113829              5.0                     1\n",
       "6192                5.0                     1\n",
       "\n",
       "[9712 rows x 2 columns]"
      ]
     },
     "execution_count": 39,
     "metadata": {},
     "output_type": "execute_result"
    }
   ],
   "source": [
    "movie_mean_evaluation.sort_values(by='Média de Notas', ascending=True)"
   ]
  },
  {
   "cell_type": "markdown",
   "id": "92bc3a0c-cbae-4146-b261-8e25bd7f72af",
   "metadata": {},
   "source": [
    "## As melhores/piores Avaliações são outliers?"
   ]
  },
  {
   "cell_type": "code",
   "execution_count": 40,
   "id": "8af79ab6-cda3-46e9-86a4-6ede2caf14c6",
   "metadata": {},
   "outputs": [
    {
     "data": {
      "text/plain": [
       "<AxesSubplot:ylabel='Média de Notas'>"
      ]
     },
     "execution_count": 40,
     "metadata": {},
     "output_type": "execute_result"
    },
    {
     "data": {
      "image/png": "[encoded data removed]",
      "text/plain": [
       "<Figure size 432x288 with 1 Axes>"
      ]
     },
     "metadata": {
      "needs_background": "light"
     },
     "output_type": "display_data"
    }
   ],
   "source": [
    "sns.boxplot(data=movie_mean_evaluation['Média de Notas'], y=movie_mean_evaluation['Média de Notas'])"
   ]
  },
  {
   "cell_type": "markdown",
   "id": "782803ae-4fd8-4de0-ab92-7a3f60bb4a00",
   "metadata": {},
   "source": [
    "## Quais as cetegorias com a melhores médias"
   ]
  },
  {
   "cell_type": "code",
   "execution_count": 126,
   "id": "461e0051-193c-460c-b2fc-2e3c482481a0",
   "metadata": {},
   "outputs": [],
   "source": [
    "genre_rating = movies_rating_clear[['genres','rating']].reset_index()"
   ]
  },
  {
   "cell_type": "code",
   "execution_count": 189,
   "id": "8c96fc01-38f0-497e-9cb8-3ac5a35f22c2",
   "metadata": {},
   "outputs": [
    {
     "name": "stderr",
     "output_type": "stream",
     "text": [
      "/Users/evandrodepaula/Documents/pos/ds/lib/python3.9/site-packages/pandas/core/strings/accessor.py:101: UserWarning: This pattern has match groups. To actually get the groups, use str.extract.\n",
      "  return func(self, *args, **kwargs)\n"
     ]
    },
    {
     "data": {
      "text/html": [
       "<div>\n",
       "<style scoped>\n",
       "    .dataframe tbody tr th:only-of-type {\n",
       "        vertical-align: middle;\n",
       "    }\n",
       "\n",
       "    .dataframe tbody tr th {\n",
       "        vertical-align: top;\n",
       "    }\n",
       "\n",
       "    .dataframe thead th {\n",
       "        text-align: right;\n",
       "    }\n",
       "</style>\n",
       "<table border=\"1\" class=\"dataframe\">\n",
       "  <thead>\n",
       "    <tr style=\"text-align: right;\">\n",
       "      <th></th>\n",
       "      <th>genero</th>\n",
       "      <th>media</th>\n",
       "    </tr>\n",
       "  </thead>\n",
       "  <tbody>\n",
       "    <tr>\n",
       "      <th>0</th>\n",
       "      <td>Film-Noir</td>\n",
       "      <td>3.920115</td>\n",
       "    </tr>\n",
       "    <tr>\n",
       "      <th>1</th>\n",
       "      <td>War</td>\n",
       "      <td>3.808294</td>\n",
       "    </tr>\n",
       "    <tr>\n",
       "      <th>2</th>\n",
       "      <td>Documentary</td>\n",
       "      <td>3.797785</td>\n",
       "    </tr>\n",
       "    <tr>\n",
       "      <th>3</th>\n",
       "      <td>Crime</td>\n",
       "      <td>3.658294</td>\n",
       "    </tr>\n",
       "    <tr>\n",
       "      <th>4</th>\n",
       "      <td>Drama</td>\n",
       "      <td>3.656168</td>\n",
       "    </tr>\n",
       "    <tr>\n",
       "      <th>5</th>\n",
       "      <td>Mystery</td>\n",
       "      <td>3.632460</td>\n",
       "    </tr>\n",
       "    <tr>\n",
       "      <th>6</th>\n",
       "      <td>Animation</td>\n",
       "      <td>3.629937</td>\n",
       "    </tr>\n",
       "    <tr>\n",
       "      <th>7</th>\n",
       "      <td>IMAX</td>\n",
       "      <td>3.618335</td>\n",
       "    </tr>\n",
       "    <tr>\n",
       "      <th>8</th>\n",
       "      <td>Western</td>\n",
       "      <td>3.583938</td>\n",
       "    </tr>\n",
       "    <tr>\n",
       "      <th>9</th>\n",
       "      <td>Musical</td>\n",
       "      <td>3.563678</td>\n",
       "    </tr>\n",
       "    <tr>\n",
       "      <th>10</th>\n",
       "      <td>Adventure</td>\n",
       "      <td>3.508609</td>\n",
       "    </tr>\n",
       "    <tr>\n",
       "      <th>11</th>\n",
       "      <td>Romance</td>\n",
       "      <td>3.506511</td>\n",
       "    </tr>\n",
       "    <tr>\n",
       "      <th>12</th>\n",
       "      <td>Thriller</td>\n",
       "      <td>3.493723</td>\n",
       "    </tr>\n",
       "    <tr>\n",
       "      <th>13</th>\n",
       "      <td>Fantasy</td>\n",
       "      <td>3.491001</td>\n",
       "    </tr>\n",
       "    <tr>\n",
       "      <th>14</th>\n",
       "      <td>Sci-Fi</td>\n",
       "      <td>3.455851</td>\n",
       "    </tr>\n",
       "    <tr>\n",
       "      <th>15</th>\n",
       "      <td>Action</td>\n",
       "      <td>3.447978</td>\n",
       "    </tr>\n",
       "    <tr>\n",
       "      <th>16</th>\n",
       "      <td>(no genres listed)</td>\n",
       "      <td>3.421053</td>\n",
       "    </tr>\n",
       "    <tr>\n",
       "      <th>17</th>\n",
       "      <td>Children</td>\n",
       "      <td>3.412956</td>\n",
       "    </tr>\n",
       "    <tr>\n",
       "      <th>18</th>\n",
       "      <td>Comedy</td>\n",
       "      <td>3.384721</td>\n",
       "    </tr>\n",
       "    <tr>\n",
       "      <th>19</th>\n",
       "      <td>Horror</td>\n",
       "      <td>3.258195</td>\n",
       "    </tr>\n",
       "  </tbody>\n",
       "</table>\n",
       "</div>"
      ],
      "text/plain": [
       "                genero     media\n",
       "0            Film-Noir  3.920115\n",
       "1                  War  3.808294\n",
       "2          Documentary  3.797785\n",
       "3                Crime  3.658294\n",
       "4                Drama  3.656168\n",
       "5              Mystery  3.632460\n",
       "6            Animation  3.629937\n",
       "7                 IMAX  3.618335\n",
       "8              Western  3.583938\n",
       "9              Musical  3.563678\n",
       "10           Adventure  3.508609\n",
       "11             Romance  3.506511\n",
       "12            Thriller  3.493723\n",
       "13             Fantasy  3.491001\n",
       "14              Sci-Fi  3.455851\n",
       "15              Action  3.447978\n",
       "16  (no genres listed)  3.421053\n",
       "17            Children  3.412956\n",
       "18              Comedy  3.384721\n",
       "19              Horror  3.258195"
      ]
     },
     "execution_count": 189,
     "metadata": {},
     "output_type": "execute_result"
    }
   ],
   "source": [
    "ratings_genre = {}\n",
    "for i in range(len(genres_count['genre'])):\n",
    "    genre = genres_count['genre'][i]\n",
    "    ratings_genre[genre] = genre_rating[genre_rating['genres'].str.contains(genres_count['genre'][i])]['rating']\n",
    "\n",
    "mean_for_genre = {}\n",
    "for key in ratings_genre:\n",
    "    mean_for_genre[key] = ratings_genre[key].mean()\n",
    "\n",
    "movies_genre_mean_df = pd.DataFrame(mean_for_genre, index=[0]).T.reset_index()\n",
    "movies_genre_mean_df.columns = ['genero', 'media']\n",
    "movies_genre_mean_df.sort_values(by='media', ascending=False, inplace=True)\n",
    "movies_genre_mean_df.reset_index(drop=True)"
   ]
  },
  {
   "cell_type": "code",
   "execution_count": 190,
   "id": "ba8311b5-c842-438e-b8dc-abd6dc1dd0fa",
   "metadata": {},
   "outputs": [
    {
     "data": {
      "text/plain": [
       "[Text(0.5, 0, 'Média dos generos'),\n",
       " Text(0.5, 1.0, 'Distribuição das médias dos generos')]"
      ]
     },
     "execution_count": 190,
     "metadata": {},
     "output_type": "execute_result"
    },
    {
     "data": {
      "image/png": "[encoded data removed]",
      "text/plain": [
       "<Figure size 1080x720 with 1 Axes>"
      ]
     },
     "metadata": {
      "needs_background": "light"
     },
     "output_type": "display_data"
    }
   ],
   "source": [
    "plt.figure(figsize=(15, 10))\n",
    "hist_genre_mean = sns.histplot(data=movies_genre_mean_df)\n",
    "hist_genre_mean.set(xlabel='Média dos generos', title= \"Distribuição das médias dos generos\", )"
   ]
  },
  {
   "cell_type": "code",
   "execution_count": null,
   "id": "6a4c7e13-6b55-476d-9212-34fed309f6f5",
   "metadata": {},
   "outputs": [],
   "source": []
  }
 ],
 "metadata": {
  "kernelspec": {
   "display_name": "Python 3",
   "language": "python",
   "name": "python3"
  },
  "language_info": {
   "codemirror_mode": {
    "name": "ipython",
    "version": 3
   },
   "file_extension": ".py",
   "mimetype": "text/x-python",
   "name": "python",
   "nbconvert_exporter": "python",
   "pygments_lexer": "ipython3",
   "version": "3.9.4"
  }
 },
 "nbformat": 4,
 "nbformat_minor": 5
}
